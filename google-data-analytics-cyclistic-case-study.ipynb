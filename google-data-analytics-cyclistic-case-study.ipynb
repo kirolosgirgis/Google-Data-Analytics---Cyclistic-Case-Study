{
 "cells": [
  {
   "cell_type": "markdown",
   "id": "512e0fe3",
   "metadata": {
    "execution": {
     "iopub.execute_input": "2022-02-04T15:57:31.484094Z",
     "iopub.status.busy": "2022-02-04T15:57:31.48187Z",
     "iopub.status.idle": "2022-02-04T15:57:31.610735Z"
    },
    "papermill": {
     "duration": 0.176028,
     "end_time": "2022-02-06T21:07:22.746683",
     "exception": false,
     "start_time": "2022-02-06T21:07:22.570655",
     "status": "completed"
    },
    "tags": []
   },
   "source": [
    "# **Introduction**\n",
    "\n",
    "<font size = \"3\"> My name is Kirolos, and I am a new data analyst who is fascinated by the potential of data analytics and the work that can be accomplished with it. My first step to becoming a data analyst is to take the Google Data Analytics Professional Certificate from Coursera which enabled me to learn new skills and gain numerous new abilities in data cleaning, data analysis, and data visualization. To crown my achievement, the capstone project should be completed as the final stage in obtaining the Google Analytics certificate by completing a case study scenario to prepare myself for the data analytics job hunt. The case study's complete documentation can be found in the [Google Data Analytics Capstone: Complete a Case Study](https://www.coursera.org/learn/google-data-analytics-capstone) Course. \n",
    "\n",
    "<font size = \"3\">To assure the completion of this project, it should follow the data analysis process steps:\n",
    "\n",
    "* **Ask**\n",
    "* **Prepare**\n",
    "* **Process**\n",
    "* **Analyze**\n",
    "* **Share**\n",
    "* **Act**"
   ]
  },
  {
   "cell_type": "markdown",
   "id": "226b3993",
   "metadata": {
    "papermill": {
     "duration": 0.176718,
     "end_time": "2022-02-06T21:07:23.099033",
     "exception": false,
     "start_time": "2022-02-06T21:07:22.922315",
     "status": "completed"
    },
    "tags": []
   },
   "source": [
    "# **General Information about the Project**\n",
    "\n",
    "<font size = \"3\">Before proceeding with the data analysis process steps, let me first introduce the case study scenario, characters, and teams from the Cyclistic case study document. </font>\n",
    "\n",
    "## **Scenario**\n",
    "> <font size = \"3\">You are a junior data analyst working in the marketing analyst team at Cyclistic, a bike-share company in Chicago. The director of marketing believes the company’s future success depends on maximizing the number of annual memberships. Therefore, your team wants to understand how casual riders and annual members use Cyclistic bikes differently. From these insights, your team will design a new marketing strategy to convert casual riders into annual members. But first, Cyclistic executives must approve your recommendations, so they must be backed up with compelling data insights and professional data visualizations. </font>\n",
    "\n",
    "## **Characters and teams**\n",
    "\n",
    "> * <font size = \"3\"> **Cyclistic:** A bike-share program that features more than 5,800 bicycles and 600 docking stations. Cyclistic sets itself apart by also offering reclining bikes, hand tricycles, and cargo bikes, making bike-share more inclusive to people with disabilities and riders who can’t use a standard two-wheeled bike. The majority of riders opt for traditional bikes; about 8% of riders use the assistive options. Cyclistic users are more likely to ride for leisure, but about 30% use them to commute to work each day.\n",
    "> * **Lily Moreno:** The director of marketing and your manager. Moreno is responsible for the development of campaigns and initiatives to promote the bike-share program. These may include email, social media, and other channels.\n",
    "> * **Cyclistic marketing analytics team:** A team of data analysts who are responsible for collecting, analyzing, and reporting data that helps guide Cyclistic marketing strategy. You joined this team six months ago and have been busy learning about Cyclistic’s mission and business goals — as well as how you, as a junior data analyst, can help Cyclistic achieve them.\n",
    "> * **Cyclistic executive team:** The notoriously detail-oriented executive team will decide whether to approve the recommended marketing program. </font>\n"
   ]
  },
  {
   "cell_type": "markdown",
   "id": "f8a0a990",
   "metadata": {
    "papermill": {
     "duration": 0.168984,
     "end_time": "2022-02-06T21:07:23.443304",
     "exception": false,
     "start_time": "2022-02-06T21:07:23.274320",
     "status": "completed"
    },
    "tags": []
   },
   "source": [
    "# **Ask** Roadmap \n",
    "\n",
    "<font size = \"3\"> The first step in the data analysis process is Ask. In this step, I should know what is the assignment that my manager has given to me (from the Cyclistic case study document). In addition, I should answer the guiding questions in the roadmap and identify the key tasks and deliverables. </font> \n",
    "\n",
    "## **Assignment**\n",
    "\n",
    "> <font size = \"3\"> Moreno has assigned you the first question to answer: How do annual members and casual riders use Cyclistic bikes differently?\n",
    "<br /> You will produce a report with the following deliverables: <br />\n",
    "<br />$~~~$ 1. A clear statement of the business task.\n",
    "<br />$~~~$ 2. A description of all data sources used.\n",
    "<br />$~~~$ 3. Documentation of any cleaning or manipulation of data.\n",
    "<br />$~~~$ 4. A summary of your analysis.\n",
    "<br />$~~~$ 5. Supporting visualizations and key findings.\n",
    "<br />$~~~$ 6. Your top three recommendations based on your analysis.\n",
    "\n",
    "## **Guiding Questions**\n",
    "\n",
    "* <font size = \"3\">**What is the problem you are trying to solve?** <br /> The main objective is to understand the distinction between casual and annual member riders in order to devise the best marketing strategy for converting casual rides into annual member rides.<br /> <br />\n",
    "* **How can your insights drive business decision?** <br /> My insights will help increase the annual membership.\n",
    "\n",
    "## **Key Tasks**\n",
    "\n",
    "* [x] Identify the business task.\n",
    "* [x] Consider key stakeholders.\n",
    "\n",
    "## **Deliverable**\n",
    "\n",
    "* [x] **A clear statement of the business task** <br /> Understand the significant differences between casual and member riders, as well as the impact of digital media on them.</font>"
   ]
  },
  {
   "cell_type": "markdown",
   "id": "c56bacbd",
   "metadata": {
    "papermill": {
     "duration": 0.168981,
     "end_time": "2022-02-06T21:07:23.781385",
     "exception": false,
     "start_time": "2022-02-06T21:07:23.612404",
     "status": "completed"
    },
    "tags": []
   },
   "source": [
    "# **Prepare** Roadmap\n",
    "\n",
    "<font size =\"3\">In this step in the project, the datasets of the last 12 month were downloaded from [here](https://divvy-tripdata.s3.amazonaws.com/index.html), and also can be found in [this kaggle dataset](https://www.kaggle.com/kirilosyossif/cyclistic-case-study-google-certificate).\n",
    "\n",
    "### **Guiding Questions**\n",
    "\n",
    "* **Where is your data located?** <br /> The Data is located in kaggle dataset. <br /> <br />\n",
    "* **How is the data organized?** <br /> The data is organized by month. <br /> <br />\n",
    "* **Are there issues with bias or credibility in this data? Does your data ROCCC?** <br /> There are no issues with the bias credibility. It is reliable, original, comprehensive, current, and cited which means that it is ROCCC.<br /> <br />\n",
    "* **How are you addressing licensing, privacy, security, and accessibility?** <br /> The licensing of the data can be found [here](https://ride.divvybikes.com/data-license-agreement), as for the privacy and security, the datasets does not have any riders' personally identifiable information. <br /> <br />\n",
    "* **How did you verify the data’s integrity?** <br /> The datasets have consistent data and type for all columns. <br /> <br />\n",
    "* **How does it help you answer your question?** <br /> From the provided data, some key insights can be found regarding riding trends for casual and member usage.<br /> <br />\n",
    "* **Are there any problems with the data?** <br /> There are no problems with the data, but more information about riders could be useful.\n",
    "\n",
    "### **Key Tasks**\n",
    "\n",
    "* [x] Download data and store it appropriately.\n",
    "* [x] Identify how it is organized.\n",
    "* [x] Sort and filter the data.\n",
    "* [x] Determine the credibility of the data.\n",
    "\n",
    "### **Deliverable**\n",
    "\n",
    "* [x] **A description of all the data sources used** <br /> The data sources used is for 12 months from Jan 2021 to Dec 2021.</font>"
   ]
  },
  {
   "cell_type": "markdown",
   "id": "363bb421",
   "metadata": {
    "papermill": {
     "duration": 0.168773,
     "end_time": "2022-02-06T21:07:24.118086",
     "exception": false,
     "start_time": "2022-02-06T21:07:23.949313",
     "status": "completed"
    },
    "tags": []
   },
   "source": [
    "# **Process** Roadmap\n",
    "\n",
    "<font size =\"3\">The datasets downloaded in the last 12 months will be grouped in.XLS and.CSV files throughout the project's process step. Opening the .XLS files will allow me to become acquainted with and comprehend the data, whilst the .CSV files will be merged into a single file then to be cleaned then analyzed later in the following stage.\n",
    "\n",
    "## Use Excel sheet\n",
    "\n",
    "* Open each .CSV file and save it as a worksheet in .XLS folder.\n",
    "* Create a new column called \"ride_length\" to calculate the duration between \"started_at\" and \"ended_at\" (for example, =D2-C2), and format it as HH:MM:SS.\n",
    "* Create a new column called \"day_of_week\" to calculate the day of the week that each ride started using the \"WEEKDAY\" command (for example, =WEEKDAY(C2,1)) where 1 = Sunday and 7 = Saturday.\n",
    "\n",
    "## Use RStudio code \n",
    "\n",
    "RStudio is used to process the .CSV files as follows:\n",
    "\n",
    "### Install packages\n",
    "\n",
    "The main package that will be used is \"tidyverse\" packages. other packages like \"lubridate\", \"ggplot2\", and \"scales\" will be used later for the analysis step.\n",
    "\n",
    ">install.packages(\"tidyverse\") <br />\n",
    "install.packages(\"lubridate\") <br />\n",
    "install.packages(\"ggplot2\") <br />\n",
    "install.packages(\"scales\")\n",
    "\n",
    "### Load packages"
   ]
  },
  {
   "cell_type": "code",
   "execution_count": 1,
   "id": "ac60e7b5",
   "metadata": {
    "execution": {
     "iopub.execute_input": "2022-02-06T21:07:24.463008Z",
     "iopub.status.busy": "2022-02-06T21:07:24.462022Z",
     "iopub.status.idle": "2022-02-06T21:07:25.748846Z",
     "shell.execute_reply": "2022-02-06T21:07:25.747138Z"
    },
    "papermill": {
     "duration": 1.463031,
     "end_time": "2022-02-06T21:07:25.749048",
     "exception": false,
     "start_time": "2022-02-06T21:07:24.286017",
     "status": "completed"
    },
    "tags": []
   },
   "outputs": [
    {
     "name": "stderr",
     "output_type": "stream",
     "text": [
      "── \u001b[1mAttaching packages\u001b[22m ─────────────────────────────────────── tidyverse 1.3.1 ──\n",
      "\n",
      "\u001b[32m✔\u001b[39m \u001b[34mggplot2\u001b[39m 3.3.5     \u001b[32m✔\u001b[39m \u001b[34mpurrr  \u001b[39m 0.3.4\n",
      "\u001b[32m✔\u001b[39m \u001b[34mtibble \u001b[39m 3.1.5     \u001b[32m✔\u001b[39m \u001b[34mdplyr  \u001b[39m 1.0.7\n",
      "\u001b[32m✔\u001b[39m \u001b[34mtidyr  \u001b[39m 1.1.4     \u001b[32m✔\u001b[39m \u001b[34mstringr\u001b[39m 1.4.0\n",
      "\u001b[32m✔\u001b[39m \u001b[34mreadr  \u001b[39m 2.0.2     \u001b[32m✔\u001b[39m \u001b[34mforcats\u001b[39m 0.5.1\n",
      "\n",
      "── \u001b[1mConflicts\u001b[22m ────────────────────────────────────────── tidyverse_conflicts() ──\n",
      "\u001b[31m✖\u001b[39m \u001b[34mdplyr\u001b[39m::\u001b[32mfilter()\u001b[39m masks \u001b[34mstats\u001b[39m::filter()\n",
      "\u001b[31m✖\u001b[39m \u001b[34mdplyr\u001b[39m::\u001b[32mlag()\u001b[39m    masks \u001b[34mstats\u001b[39m::lag()\n",
      "\n",
      "\n",
      "Attaching package: ‘lubridate’\n",
      "\n",
      "\n",
      "The following objects are masked from ‘package:base’:\n",
      "\n",
      "    date, intersect, setdiff, union\n",
      "\n",
      "\n",
      "\n",
      "Attaching package: ‘scales’\n",
      "\n",
      "\n",
      "The following object is masked from ‘package:purrr’:\n",
      "\n",
      "    discard\n",
      "\n",
      "\n",
      "The following object is masked from ‘package:readr’:\n",
      "\n",
      "    col_factor\n",
      "\n",
      "\n"
     ]
    }
   ],
   "source": [
    "library(tidyverse)\n",
    "library(lubridate)\n",
    "library(ggplot2)\n",
    "library(scales)"
   ]
  },
  {
   "cell_type": "markdown",
   "id": "6657e977",
   "metadata": {
    "papermill": {
     "duration": 0.18889,
     "end_time": "2022-02-06T21:07:26.129028",
     "exception": false,
     "start_time": "2022-02-06T21:07:25.940138",
     "status": "completed"
    },
    "tags": []
   },
   "source": [
    "### Set Working Directory"
   ]
  },
  {
   "cell_type": "code",
   "execution_count": 2,
   "id": "f5e1942b",
   "metadata": {
    "_kg_hide-input": true,
    "_kg_hide-output": true,
    "execution": {
     "iopub.execute_input": "2022-02-06T21:07:26.530457Z",
     "iopub.status.busy": "2022-02-06T21:07:26.498352Z",
     "iopub.status.idle": "2022-02-06T21:07:26.553501Z",
     "shell.execute_reply": "2022-02-06T21:07:26.551880Z"
    },
    "papermill": {
     "duration": 0.237958,
     "end_time": "2022-02-06T21:07:26.553641",
     "exception": false,
     "start_time": "2022-02-06T21:07:26.315683",
     "status": "completed"
    },
    "tags": []
   },
   "outputs": [
    {
     "data": {
      "text/html": [
       "'/kaggle/working'"
      ],
      "text/latex": [
       "'/kaggle/working'"
      ],
      "text/markdown": [
       "'/kaggle/working'"
      ],
      "text/plain": [
       "[1] \"/kaggle/working\""
      ]
     },
     "metadata": {},
     "output_type": "display_data"
    }
   ],
   "source": [
    "getwd()\n",
    "setwd(\"../input/cyclistic-project\")"
   ]
  },
  {
   "cell_type": "markdown",
   "id": "ba630f21",
   "metadata": {
    "papermill": {
     "duration": 0.178517,
     "end_time": "2022-02-06T21:07:26.915699",
     "exception": false,
     "start_time": "2022-02-06T21:07:26.737182",
     "status": "completed"
    },
    "tags": []
   },
   "source": [
    "### Collect data files"
   ]
  },
  {
   "cell_type": "code",
   "execution_count": 3,
   "id": "f8907b09",
   "metadata": {
    "execution": {
     "iopub.execute_input": "2022-02-06T21:07:27.277204Z",
     "iopub.status.busy": "2022-02-06T21:07:27.275430Z",
     "iopub.status.idle": "2022-02-06T21:09:05.911291Z",
     "shell.execute_reply": "2022-02-06T21:09:05.909879Z"
    },
    "papermill": {
     "duration": 98.818089,
     "end_time": "2022-02-06T21:09:05.911506",
     "exception": false,
     "start_time": "2022-02-06T21:07:27.093417",
     "status": "completed"
    },
    "tags": []
   },
   "outputs": [
    {
     "name": "stderr",
     "output_type": "stream",
     "text": [
      "Warning message in scan(file = file, what = what, sep = sep, quote = quote, dec = dec, :\n",
      "“embedded nul(s) found in input”\n"
     ]
    }
   ],
   "source": [
    "jan_21 <- read.csv(\"202101-divvy-tripdata.csv\")\n",
    "feb_21 <- read.csv(\"202102-divvy-tripdata.csv\")\n",
    "mar_21 <- read.csv(\"202103-divvy-tripdata.csv\")\n",
    "apr_21 <- read.csv(\"202104-divvy-tripdata.csv\")\n",
    "may_21 <- read.csv(\"202105-divvy-tripdata.csv\")\n",
    "jun_21 <- read.csv(\"202106-divvy-tripdata.csv\")\n",
    "jul_21 <- read.csv(\"202107-divvy-tripdata.csv\")\n",
    "aug_21 <- read.csv(\"202108-divvy-tripdata.csv\")\n",
    "sep_21 <- read.csv(\"202109-divvy-tripdata.csv\")\n",
    "oct_21 <- read.csv(\"202110-divvy-tripdata.csv\")\n",
    "nov_21 <- read.csv(\"202111-divvy-tripdata.csv\")\n",
    "dec_21 <- read.csv(\"202112-divvy-tripdata.csv\")"
   ]
  },
  {
   "cell_type": "markdown",
   "id": "1d87dd9f",
   "metadata": {
    "papermill": {
     "duration": 0.178545,
     "end_time": "2022-02-06T21:09:06.271122",
     "exception": false,
     "start_time": "2022-02-06T21:09:06.092577",
     "status": "completed"
    },
    "tags": []
   },
   "source": [
    "### Compare column names and make sure they match before merging"
   ]
  },
  {
   "cell_type": "code",
   "execution_count": 4,
   "id": "856d76ac",
   "metadata": {
    "execution": {
     "iopub.execute_input": "2022-02-06T21:09:06.640764Z",
     "iopub.status.busy": "2022-02-06T21:09:06.638734Z",
     "iopub.status.idle": "2022-02-06T21:09:06.719344Z",
     "shell.execute_reply": "2022-02-06T21:09:06.717852Z"
    },
    "papermill": {
     "duration": 0.265233,
     "end_time": "2022-02-06T21:09:06.719480",
     "exception": false,
     "start_time": "2022-02-06T21:09:06.454247",
     "status": "completed"
    },
    "tags": []
   },
   "outputs": [
    {
     "data": {
      "text/html": [
       "<style>\n",
       ".list-inline {list-style: none; margin:0; padding: 0}\n",
       ".list-inline>li {display: inline-block}\n",
       ".list-inline>li:not(:last-child)::after {content: \"\\00b7\"; padding: 0 .5ex}\n",
       "</style>\n",
       "<ol class=list-inline><li>'ride_id'</li><li>'rideable_type'</li><li>'started_at'</li><li>'ended_at'</li><li>'start_station_name'</li><li>'start_station_id'</li><li>'end_station_name'</li><li>'end_station_id'</li><li>'start_lat'</li><li>'start_lng'</li><li>'end_lat'</li><li>'end_lng'</li><li>'member_casual'</li></ol>\n"
      ],
      "text/latex": [
       "\\begin{enumerate*}\n",
       "\\item 'ride\\_id'\n",
       "\\item 'rideable\\_type'\n",
       "\\item 'started\\_at'\n",
       "\\item 'ended\\_at'\n",
       "\\item 'start\\_station\\_name'\n",
       "\\item 'start\\_station\\_id'\n",
       "\\item 'end\\_station\\_name'\n",
       "\\item 'end\\_station\\_id'\n",
       "\\item 'start\\_lat'\n",
       "\\item 'start\\_lng'\n",
       "\\item 'end\\_lat'\n",
       "\\item 'end\\_lng'\n",
       "\\item 'member\\_casual'\n",
       "\\end{enumerate*}\n"
      ],
      "text/markdown": [
       "1. 'ride_id'\n",
       "2. 'rideable_type'\n",
       "3. 'started_at'\n",
       "4. 'ended_at'\n",
       "5. 'start_station_name'\n",
       "6. 'start_station_id'\n",
       "7. 'end_station_name'\n",
       "8. 'end_station_id'\n",
       "9. 'start_lat'\n",
       "10. 'start_lng'\n",
       "11. 'end_lat'\n",
       "12. 'end_lng'\n",
       "13. 'member_casual'\n",
       "\n",
       "\n"
      ],
      "text/plain": [
       " [1] \"ride_id\"            \"rideable_type\"      \"started_at\"        \n",
       " [4] \"ended_at\"           \"start_station_name\" \"start_station_id\"  \n",
       " [7] \"end_station_name\"   \"end_station_id\"     \"start_lat\"         \n",
       "[10] \"start_lng\"          \"end_lat\"            \"end_lng\"           \n",
       "[13] \"member_casual\"     "
      ]
     },
     "metadata": {},
     "output_type": "display_data"
    },
    {
     "data": {
      "text/html": [
       "<style>\n",
       ".list-inline {list-style: none; margin:0; padding: 0}\n",
       ".list-inline>li {display: inline-block}\n",
       ".list-inline>li:not(:last-child)::after {content: \"\\00b7\"; padding: 0 .5ex}\n",
       "</style>\n",
       "<ol class=list-inline><li>'ride_id'</li><li>'rideable_type'</li><li>'started_at'</li><li>'ended_at'</li><li>'start_station_name'</li><li>'start_station_id'</li><li>'end_station_name'</li><li>'end_station_id'</li><li>'start_lat'</li><li>'start_lng'</li><li>'end_lat'</li><li>'end_lng'</li><li>'member_casual'</li></ol>\n"
      ],
      "text/latex": [
       "\\begin{enumerate*}\n",
       "\\item 'ride\\_id'\n",
       "\\item 'rideable\\_type'\n",
       "\\item 'started\\_at'\n",
       "\\item 'ended\\_at'\n",
       "\\item 'start\\_station\\_name'\n",
       "\\item 'start\\_station\\_id'\n",
       "\\item 'end\\_station\\_name'\n",
       "\\item 'end\\_station\\_id'\n",
       "\\item 'start\\_lat'\n",
       "\\item 'start\\_lng'\n",
       "\\item 'end\\_lat'\n",
       "\\item 'end\\_lng'\n",
       "\\item 'member\\_casual'\n",
       "\\end{enumerate*}\n"
      ],
      "text/markdown": [
       "1. 'ride_id'\n",
       "2. 'rideable_type'\n",
       "3. 'started_at'\n",
       "4. 'ended_at'\n",
       "5. 'start_station_name'\n",
       "6. 'start_station_id'\n",
       "7. 'end_station_name'\n",
       "8. 'end_station_id'\n",
       "9. 'start_lat'\n",
       "10. 'start_lng'\n",
       "11. 'end_lat'\n",
       "12. 'end_lng'\n",
       "13. 'member_casual'\n",
       "\n",
       "\n"
      ],
      "text/plain": [
       " [1] \"ride_id\"            \"rideable_type\"      \"started_at\"        \n",
       " [4] \"ended_at\"           \"start_station_name\" \"start_station_id\"  \n",
       " [7] \"end_station_name\"   \"end_station_id\"     \"start_lat\"         \n",
       "[10] \"start_lng\"          \"end_lat\"            \"end_lng\"           \n",
       "[13] \"member_casual\"     "
      ]
     },
     "metadata": {},
     "output_type": "display_data"
    },
    {
     "data": {
      "text/html": [
       "<style>\n",
       ".list-inline {list-style: none; margin:0; padding: 0}\n",
       ".list-inline>li {display: inline-block}\n",
       ".list-inline>li:not(:last-child)::after {content: \"\\00b7\"; padding: 0 .5ex}\n",
       "</style>\n",
       "<ol class=list-inline><li>'ride_id'</li><li>'rideable_type'</li><li>'started_at'</li><li>'ended_at'</li><li>'start_station_name'</li><li>'start_station_id'</li><li>'end_station_name'</li><li>'end_station_id'</li><li>'start_lat'</li><li>'start_lng'</li><li>'end_lat'</li><li>'end_lng'</li><li>'member_casual'</li></ol>\n"
      ],
      "text/latex": [
       "\\begin{enumerate*}\n",
       "\\item 'ride\\_id'\n",
       "\\item 'rideable\\_type'\n",
       "\\item 'started\\_at'\n",
       "\\item 'ended\\_at'\n",
       "\\item 'start\\_station\\_name'\n",
       "\\item 'start\\_station\\_id'\n",
       "\\item 'end\\_station\\_name'\n",
       "\\item 'end\\_station\\_id'\n",
       "\\item 'start\\_lat'\n",
       "\\item 'start\\_lng'\n",
       "\\item 'end\\_lat'\n",
       "\\item 'end\\_lng'\n",
       "\\item 'member\\_casual'\n",
       "\\end{enumerate*}\n"
      ],
      "text/markdown": [
       "1. 'ride_id'\n",
       "2. 'rideable_type'\n",
       "3. 'started_at'\n",
       "4. 'ended_at'\n",
       "5. 'start_station_name'\n",
       "6. 'start_station_id'\n",
       "7. 'end_station_name'\n",
       "8. 'end_station_id'\n",
       "9. 'start_lat'\n",
       "10. 'start_lng'\n",
       "11. 'end_lat'\n",
       "12. 'end_lng'\n",
       "13. 'member_casual'\n",
       "\n",
       "\n"
      ],
      "text/plain": [
       " [1] \"ride_id\"            \"rideable_type\"      \"started_at\"        \n",
       " [4] \"ended_at\"           \"start_station_name\" \"start_station_id\"  \n",
       " [7] \"end_station_name\"   \"end_station_id\"     \"start_lat\"         \n",
       "[10] \"start_lng\"          \"end_lat\"            \"end_lng\"           \n",
       "[13] \"member_casual\"     "
      ]
     },
     "metadata": {},
     "output_type": "display_data"
    },
    {
     "data": {
      "text/html": [
       "<style>\n",
       ".list-inline {list-style: none; margin:0; padding: 0}\n",
       ".list-inline>li {display: inline-block}\n",
       ".list-inline>li:not(:last-child)::after {content: \"\\00b7\"; padding: 0 .5ex}\n",
       "</style>\n",
       "<ol class=list-inline><li>'ride_id'</li><li>'rideable_type'</li><li>'started_at'</li><li>'ended_at'</li><li>'start_station_name'</li><li>'start_station_id'</li><li>'end_station_name'</li><li>'end_station_id'</li><li>'start_lat'</li><li>'start_lng'</li><li>'end_lat'</li><li>'end_lng'</li><li>'member_casual'</li></ol>\n"
      ],
      "text/latex": [
       "\\begin{enumerate*}\n",
       "\\item 'ride\\_id'\n",
       "\\item 'rideable\\_type'\n",
       "\\item 'started\\_at'\n",
       "\\item 'ended\\_at'\n",
       "\\item 'start\\_station\\_name'\n",
       "\\item 'start\\_station\\_id'\n",
       "\\item 'end\\_station\\_name'\n",
       "\\item 'end\\_station\\_id'\n",
       "\\item 'start\\_lat'\n",
       "\\item 'start\\_lng'\n",
       "\\item 'end\\_lat'\n",
       "\\item 'end\\_lng'\n",
       "\\item 'member\\_casual'\n",
       "\\end{enumerate*}\n"
      ],
      "text/markdown": [
       "1. 'ride_id'\n",
       "2. 'rideable_type'\n",
       "3. 'started_at'\n",
       "4. 'ended_at'\n",
       "5. 'start_station_name'\n",
       "6. 'start_station_id'\n",
       "7. 'end_station_name'\n",
       "8. 'end_station_id'\n",
       "9. 'start_lat'\n",
       "10. 'start_lng'\n",
       "11. 'end_lat'\n",
       "12. 'end_lng'\n",
       "13. 'member_casual'\n",
       "\n",
       "\n"
      ],
      "text/plain": [
       " [1] \"ride_id\"            \"rideable_type\"      \"started_at\"        \n",
       " [4] \"ended_at\"           \"start_station_name\" \"start_station_id\"  \n",
       " [7] \"end_station_name\"   \"end_station_id\"     \"start_lat\"         \n",
       "[10] \"start_lng\"          \"end_lat\"            \"end_lng\"           \n",
       "[13] \"member_casual\"     "
      ]
     },
     "metadata": {},
     "output_type": "display_data"
    },
    {
     "data": {
      "text/html": [
       "<style>\n",
       ".list-inline {list-style: none; margin:0; padding: 0}\n",
       ".list-inline>li {display: inline-block}\n",
       ".list-inline>li:not(:last-child)::after {content: \"\\00b7\"; padding: 0 .5ex}\n",
       "</style>\n",
       "<ol class=list-inline><li>'ride_id'</li><li>'rideable_type'</li><li>'started_at'</li><li>'ended_at'</li><li>'start_station_name'</li><li>'start_station_id'</li><li>'end_station_name'</li><li>'end_station_id'</li><li>'start_lat'</li><li>'start_lng'</li><li>'end_lat'</li><li>'end_lng'</li><li>'member_casual'</li></ol>\n"
      ],
      "text/latex": [
       "\\begin{enumerate*}\n",
       "\\item 'ride\\_id'\n",
       "\\item 'rideable\\_type'\n",
       "\\item 'started\\_at'\n",
       "\\item 'ended\\_at'\n",
       "\\item 'start\\_station\\_name'\n",
       "\\item 'start\\_station\\_id'\n",
       "\\item 'end\\_station\\_name'\n",
       "\\item 'end\\_station\\_id'\n",
       "\\item 'start\\_lat'\n",
       "\\item 'start\\_lng'\n",
       "\\item 'end\\_lat'\n",
       "\\item 'end\\_lng'\n",
       "\\item 'member\\_casual'\n",
       "\\end{enumerate*}\n"
      ],
      "text/markdown": [
       "1. 'ride_id'\n",
       "2. 'rideable_type'\n",
       "3. 'started_at'\n",
       "4. 'ended_at'\n",
       "5. 'start_station_name'\n",
       "6. 'start_station_id'\n",
       "7. 'end_station_name'\n",
       "8. 'end_station_id'\n",
       "9. 'start_lat'\n",
       "10. 'start_lng'\n",
       "11. 'end_lat'\n",
       "12. 'end_lng'\n",
       "13. 'member_casual'\n",
       "\n",
       "\n"
      ],
      "text/plain": [
       " [1] \"ride_id\"            \"rideable_type\"      \"started_at\"        \n",
       " [4] \"ended_at\"           \"start_station_name\" \"start_station_id\"  \n",
       " [7] \"end_station_name\"   \"end_station_id\"     \"start_lat\"         \n",
       "[10] \"start_lng\"          \"end_lat\"            \"end_lng\"           \n",
       "[13] \"member_casual\"     "
      ]
     },
     "metadata": {},
     "output_type": "display_data"
    },
    {
     "data": {
      "text/html": [
       "<style>\n",
       ".list-inline {list-style: none; margin:0; padding: 0}\n",
       ".list-inline>li {display: inline-block}\n",
       ".list-inline>li:not(:last-child)::after {content: \"\\00b7\"; padding: 0 .5ex}\n",
       "</style>\n",
       "<ol class=list-inline><li>'ride_id'</li><li>'rideable_type'</li><li>'started_at'</li><li>'ended_at'</li><li>'start_station_name'</li><li>'start_station_id'</li><li>'end_station_name'</li><li>'end_station_id'</li><li>'start_lat'</li><li>'start_lng'</li><li>'end_lat'</li><li>'end_lng'</li><li>'member_casual'</li></ol>\n"
      ],
      "text/latex": [
       "\\begin{enumerate*}\n",
       "\\item 'ride\\_id'\n",
       "\\item 'rideable\\_type'\n",
       "\\item 'started\\_at'\n",
       "\\item 'ended\\_at'\n",
       "\\item 'start\\_station\\_name'\n",
       "\\item 'start\\_station\\_id'\n",
       "\\item 'end\\_station\\_name'\n",
       "\\item 'end\\_station\\_id'\n",
       "\\item 'start\\_lat'\n",
       "\\item 'start\\_lng'\n",
       "\\item 'end\\_lat'\n",
       "\\item 'end\\_lng'\n",
       "\\item 'member\\_casual'\n",
       "\\end{enumerate*}\n"
      ],
      "text/markdown": [
       "1. 'ride_id'\n",
       "2. 'rideable_type'\n",
       "3. 'started_at'\n",
       "4. 'ended_at'\n",
       "5. 'start_station_name'\n",
       "6. 'start_station_id'\n",
       "7. 'end_station_name'\n",
       "8. 'end_station_id'\n",
       "9. 'start_lat'\n",
       "10. 'start_lng'\n",
       "11. 'end_lat'\n",
       "12. 'end_lng'\n",
       "13. 'member_casual'\n",
       "\n",
       "\n"
      ],
      "text/plain": [
       " [1] \"ride_id\"            \"rideable_type\"      \"started_at\"        \n",
       " [4] \"ended_at\"           \"start_station_name\" \"start_station_id\"  \n",
       " [7] \"end_station_name\"   \"end_station_id\"     \"start_lat\"         \n",
       "[10] \"start_lng\"          \"end_lat\"            \"end_lng\"           \n",
       "[13] \"member_casual\"     "
      ]
     },
     "metadata": {},
     "output_type": "display_data"
    },
    {
     "data": {
      "text/html": [
       "<style>\n",
       ".list-inline {list-style: none; margin:0; padding: 0}\n",
       ".list-inline>li {display: inline-block}\n",
       ".list-inline>li:not(:last-child)::after {content: \"\\00b7\"; padding: 0 .5ex}\n",
       "</style>\n",
       "<ol class=list-inline><li>'ride_id'</li><li>'rideable_type'</li><li>'started_at'</li><li>'ended_at'</li><li>'start_station_name'</li><li>'start_station_id'</li><li>'end_station_name'</li><li>'end_station_id'</li><li>'start_lat'</li><li>'start_lng'</li><li>'end_lat'</li><li>'end_lng'</li><li>'member_casual'</li></ol>\n"
      ],
      "text/latex": [
       "\\begin{enumerate*}\n",
       "\\item 'ride\\_id'\n",
       "\\item 'rideable\\_type'\n",
       "\\item 'started\\_at'\n",
       "\\item 'ended\\_at'\n",
       "\\item 'start\\_station\\_name'\n",
       "\\item 'start\\_station\\_id'\n",
       "\\item 'end\\_station\\_name'\n",
       "\\item 'end\\_station\\_id'\n",
       "\\item 'start\\_lat'\n",
       "\\item 'start\\_lng'\n",
       "\\item 'end\\_lat'\n",
       "\\item 'end\\_lng'\n",
       "\\item 'member\\_casual'\n",
       "\\end{enumerate*}\n"
      ],
      "text/markdown": [
       "1. 'ride_id'\n",
       "2. 'rideable_type'\n",
       "3. 'started_at'\n",
       "4. 'ended_at'\n",
       "5. 'start_station_name'\n",
       "6. 'start_station_id'\n",
       "7. 'end_station_name'\n",
       "8. 'end_station_id'\n",
       "9. 'start_lat'\n",
       "10. 'start_lng'\n",
       "11. 'end_lat'\n",
       "12. 'end_lng'\n",
       "13. 'member_casual'\n",
       "\n",
       "\n"
      ],
      "text/plain": [
       " [1] \"ride_id\"            \"rideable_type\"      \"started_at\"        \n",
       " [4] \"ended_at\"           \"start_station_name\" \"start_station_id\"  \n",
       " [7] \"end_station_name\"   \"end_station_id\"     \"start_lat\"         \n",
       "[10] \"start_lng\"          \"end_lat\"            \"end_lng\"           \n",
       "[13] \"member_casual\"     "
      ]
     },
     "metadata": {},
     "output_type": "display_data"
    },
    {
     "data": {
      "text/html": [
       "<style>\n",
       ".list-inline {list-style: none; margin:0; padding: 0}\n",
       ".list-inline>li {display: inline-block}\n",
       ".list-inline>li:not(:last-child)::after {content: \"\\00b7\"; padding: 0 .5ex}\n",
       "</style>\n",
       "<ol class=list-inline><li>'ride_id'</li><li>'rideable_type'</li><li>'started_at'</li><li>'ended_at'</li><li>'start_station_name'</li><li>'start_station_id'</li><li>'end_station_name'</li><li>'end_station_id'</li><li>'start_lat'</li><li>'start_lng'</li><li>'end_lat'</li><li>'end_lng'</li><li>'member_casual'</li></ol>\n"
      ],
      "text/latex": [
       "\\begin{enumerate*}\n",
       "\\item 'ride\\_id'\n",
       "\\item 'rideable\\_type'\n",
       "\\item 'started\\_at'\n",
       "\\item 'ended\\_at'\n",
       "\\item 'start\\_station\\_name'\n",
       "\\item 'start\\_station\\_id'\n",
       "\\item 'end\\_station\\_name'\n",
       "\\item 'end\\_station\\_id'\n",
       "\\item 'start\\_lat'\n",
       "\\item 'start\\_lng'\n",
       "\\item 'end\\_lat'\n",
       "\\item 'end\\_lng'\n",
       "\\item 'member\\_casual'\n",
       "\\end{enumerate*}\n"
      ],
      "text/markdown": [
       "1. 'ride_id'\n",
       "2. 'rideable_type'\n",
       "3. 'started_at'\n",
       "4. 'ended_at'\n",
       "5. 'start_station_name'\n",
       "6. 'start_station_id'\n",
       "7. 'end_station_name'\n",
       "8. 'end_station_id'\n",
       "9. 'start_lat'\n",
       "10. 'start_lng'\n",
       "11. 'end_lat'\n",
       "12. 'end_lng'\n",
       "13. 'member_casual'\n",
       "\n",
       "\n"
      ],
      "text/plain": [
       " [1] \"ride_id\"            \"rideable_type\"      \"started_at\"        \n",
       " [4] \"ended_at\"           \"start_station_name\" \"start_station_id\"  \n",
       " [7] \"end_station_name\"   \"end_station_id\"     \"start_lat\"         \n",
       "[10] \"start_lng\"          \"end_lat\"            \"end_lng\"           \n",
       "[13] \"member_casual\"     "
      ]
     },
     "metadata": {},
     "output_type": "display_data"
    },
    {
     "data": {
      "text/html": [
       "<style>\n",
       ".list-inline {list-style: none; margin:0; padding: 0}\n",
       ".list-inline>li {display: inline-block}\n",
       ".list-inline>li:not(:last-child)::after {content: \"\\00b7\"; padding: 0 .5ex}\n",
       "</style>\n",
       "<ol class=list-inline><li>'ride_id'</li><li>'rideable_type'</li><li>'started_at'</li><li>'ended_at'</li><li>'start_station_name'</li><li>'start_station_id'</li><li>'end_station_name'</li><li>'end_station_id'</li><li>'start_lat'</li><li>'start_lng'</li><li>'end_lat'</li><li>'end_lng'</li><li>'member_casual'</li></ol>\n"
      ],
      "text/latex": [
       "\\begin{enumerate*}\n",
       "\\item 'ride\\_id'\n",
       "\\item 'rideable\\_type'\n",
       "\\item 'started\\_at'\n",
       "\\item 'ended\\_at'\n",
       "\\item 'start\\_station\\_name'\n",
       "\\item 'start\\_station\\_id'\n",
       "\\item 'end\\_station\\_name'\n",
       "\\item 'end\\_station\\_id'\n",
       "\\item 'start\\_lat'\n",
       "\\item 'start\\_lng'\n",
       "\\item 'end\\_lat'\n",
       "\\item 'end\\_lng'\n",
       "\\item 'member\\_casual'\n",
       "\\end{enumerate*}\n"
      ],
      "text/markdown": [
       "1. 'ride_id'\n",
       "2. 'rideable_type'\n",
       "3. 'started_at'\n",
       "4. 'ended_at'\n",
       "5. 'start_station_name'\n",
       "6. 'start_station_id'\n",
       "7. 'end_station_name'\n",
       "8. 'end_station_id'\n",
       "9. 'start_lat'\n",
       "10. 'start_lng'\n",
       "11. 'end_lat'\n",
       "12. 'end_lng'\n",
       "13. 'member_casual'\n",
       "\n",
       "\n"
      ],
      "text/plain": [
       " [1] \"ride_id\"            \"rideable_type\"      \"started_at\"        \n",
       " [4] \"ended_at\"           \"start_station_name\" \"start_station_id\"  \n",
       " [7] \"end_station_name\"   \"end_station_id\"     \"start_lat\"         \n",
       "[10] \"start_lng\"          \"end_lat\"            \"end_lng\"           \n",
       "[13] \"member_casual\"     "
      ]
     },
     "metadata": {},
     "output_type": "display_data"
    },
    {
     "data": {
      "text/html": [
       "<style>\n",
       ".list-inline {list-style: none; margin:0; padding: 0}\n",
       ".list-inline>li {display: inline-block}\n",
       ".list-inline>li:not(:last-child)::after {content: \"\\00b7\"; padding: 0 .5ex}\n",
       "</style>\n",
       "<ol class=list-inline><li>'ride_id'</li><li>'rideable_type'</li><li>'started_at'</li><li>'ended_at'</li><li>'start_station_name'</li><li>'start_station_id'</li><li>'end_station_name'</li><li>'end_station_id'</li><li>'start_lat'</li><li>'start_lng'</li><li>'end_lat'</li><li>'end_lng'</li><li>'member_casual'</li></ol>\n"
      ],
      "text/latex": [
       "\\begin{enumerate*}\n",
       "\\item 'ride\\_id'\n",
       "\\item 'rideable\\_type'\n",
       "\\item 'started\\_at'\n",
       "\\item 'ended\\_at'\n",
       "\\item 'start\\_station\\_name'\n",
       "\\item 'start\\_station\\_id'\n",
       "\\item 'end\\_station\\_name'\n",
       "\\item 'end\\_station\\_id'\n",
       "\\item 'start\\_lat'\n",
       "\\item 'start\\_lng'\n",
       "\\item 'end\\_lat'\n",
       "\\item 'end\\_lng'\n",
       "\\item 'member\\_casual'\n",
       "\\end{enumerate*}\n"
      ],
      "text/markdown": [
       "1. 'ride_id'\n",
       "2. 'rideable_type'\n",
       "3. 'started_at'\n",
       "4. 'ended_at'\n",
       "5. 'start_station_name'\n",
       "6. 'start_station_id'\n",
       "7. 'end_station_name'\n",
       "8. 'end_station_id'\n",
       "9. 'start_lat'\n",
       "10. 'start_lng'\n",
       "11. 'end_lat'\n",
       "12. 'end_lng'\n",
       "13. 'member_casual'\n",
       "\n",
       "\n"
      ],
      "text/plain": [
       " [1] \"ride_id\"            \"rideable_type\"      \"started_at\"        \n",
       " [4] \"ended_at\"           \"start_station_name\" \"start_station_id\"  \n",
       " [7] \"end_station_name\"   \"end_station_id\"     \"start_lat\"         \n",
       "[10] \"start_lng\"          \"end_lat\"            \"end_lng\"           \n",
       "[13] \"member_casual\"     "
      ]
     },
     "metadata": {},
     "output_type": "display_data"
    },
    {
     "data": {
      "text/html": [
       "<style>\n",
       ".list-inline {list-style: none; margin:0; padding: 0}\n",
       ".list-inline>li {display: inline-block}\n",
       ".list-inline>li:not(:last-child)::after {content: \"\\00b7\"; padding: 0 .5ex}\n",
       "</style>\n",
       "<ol class=list-inline><li>'ride_id'</li><li>'rideable_type'</li><li>'started_at'</li><li>'ended_at'</li><li>'start_station_name'</li><li>'start_station_id'</li><li>'end_station_name'</li><li>'end_station_id'</li><li>'start_lat'</li><li>'start_lng'</li><li>'end_lat'</li><li>'end_lng'</li><li>'member_casual'</li></ol>\n"
      ],
      "text/latex": [
       "\\begin{enumerate*}\n",
       "\\item 'ride\\_id'\n",
       "\\item 'rideable\\_type'\n",
       "\\item 'started\\_at'\n",
       "\\item 'ended\\_at'\n",
       "\\item 'start\\_station\\_name'\n",
       "\\item 'start\\_station\\_id'\n",
       "\\item 'end\\_station\\_name'\n",
       "\\item 'end\\_station\\_id'\n",
       "\\item 'start\\_lat'\n",
       "\\item 'start\\_lng'\n",
       "\\item 'end\\_lat'\n",
       "\\item 'end\\_lng'\n",
       "\\item 'member\\_casual'\n",
       "\\end{enumerate*}\n"
      ],
      "text/markdown": [
       "1. 'ride_id'\n",
       "2. 'rideable_type'\n",
       "3. 'started_at'\n",
       "4. 'ended_at'\n",
       "5. 'start_station_name'\n",
       "6. 'start_station_id'\n",
       "7. 'end_station_name'\n",
       "8. 'end_station_id'\n",
       "9. 'start_lat'\n",
       "10. 'start_lng'\n",
       "11. 'end_lat'\n",
       "12. 'end_lng'\n",
       "13. 'member_casual'\n",
       "\n",
       "\n"
      ],
      "text/plain": [
       " [1] \"ride_id\"            \"rideable_type\"      \"started_at\"        \n",
       " [4] \"ended_at\"           \"start_station_name\" \"start_station_id\"  \n",
       " [7] \"end_station_name\"   \"end_station_id\"     \"start_lat\"         \n",
       "[10] \"start_lng\"          \"end_lat\"            \"end_lng\"           \n",
       "[13] \"member_casual\"     "
      ]
     },
     "metadata": {},
     "output_type": "display_data"
    },
    {
     "data": {
      "text/html": [
       "<style>\n",
       ".list-inline {list-style: none; margin:0; padding: 0}\n",
       ".list-inline>li {display: inline-block}\n",
       ".list-inline>li:not(:last-child)::after {content: \"\\00b7\"; padding: 0 .5ex}\n",
       "</style>\n",
       "<ol class=list-inline><li>'ride_id'</li><li>'rideable_type'</li><li>'started_at'</li><li>'ended_at'</li><li>'start_station_name'</li><li>'start_station_id'</li><li>'end_station_name'</li><li>'end_station_id'</li><li>'start_lat'</li><li>'start_lng'</li><li>'end_lat'</li><li>'end_lng'</li><li>'member_casual'</li></ol>\n"
      ],
      "text/latex": [
       "\\begin{enumerate*}\n",
       "\\item 'ride\\_id'\n",
       "\\item 'rideable\\_type'\n",
       "\\item 'started\\_at'\n",
       "\\item 'ended\\_at'\n",
       "\\item 'start\\_station\\_name'\n",
       "\\item 'start\\_station\\_id'\n",
       "\\item 'end\\_station\\_name'\n",
       "\\item 'end\\_station\\_id'\n",
       "\\item 'start\\_lat'\n",
       "\\item 'start\\_lng'\n",
       "\\item 'end\\_lat'\n",
       "\\item 'end\\_lng'\n",
       "\\item 'member\\_casual'\n",
       "\\end{enumerate*}\n"
      ],
      "text/markdown": [
       "1. 'ride_id'\n",
       "2. 'rideable_type'\n",
       "3. 'started_at'\n",
       "4. 'ended_at'\n",
       "5. 'start_station_name'\n",
       "6. 'start_station_id'\n",
       "7. 'end_station_name'\n",
       "8. 'end_station_id'\n",
       "9. 'start_lat'\n",
       "10. 'start_lng'\n",
       "11. 'end_lat'\n",
       "12. 'end_lng'\n",
       "13. 'member_casual'\n",
       "\n",
       "\n"
      ],
      "text/plain": [
       " [1] \"ride_id\"            \"rideable_type\"      \"started_at\"        \n",
       " [4] \"ended_at\"           \"start_station_name\" \"start_station_id\"  \n",
       " [7] \"end_station_name\"   \"end_station_id\"     \"start_lat\"         \n",
       "[10] \"start_lng\"          \"end_lat\"            \"end_lng\"           \n",
       "[13] \"member_casual\"     "
      ]
     },
     "metadata": {},
     "output_type": "display_data"
    }
   ],
   "source": [
    "colnames(jan_21)\n",
    "colnames(feb_21)\n",
    "colnames(mar_21)\n",
    "colnames(apr_21)\n",
    "colnames(may_21)\n",
    "colnames(jun_21)\n",
    "colnames(jul_21)\n",
    "colnames(aug_21)\n",
    "colnames(sep_21)\n",
    "colnames(oct_21)\n",
    "colnames(nov_21)\n",
    "colnames(dec_21)"
   ]
  },
  {
   "cell_type": "markdown",
   "id": "0a5d3a7d",
   "metadata": {
    "papermill": {
     "duration": 0.21027,
     "end_time": "2022-02-06T21:09:07.144050",
     "exception": false,
     "start_time": "2022-02-06T21:09:06.933780",
     "status": "completed"
    },
    "tags": []
   },
   "source": [
    "### Inspect the data frames and look for incongruencies"
   ]
  },
  {
   "cell_type": "code",
   "execution_count": 5,
   "id": "38068b38",
   "metadata": {
    "execution": {
     "iopub.execute_input": "2022-02-06T21:09:07.570794Z",
     "iopub.status.busy": "2022-02-06T21:09:07.569245Z",
     "iopub.status.idle": "2022-02-06T21:09:07.826820Z",
     "shell.execute_reply": "2022-02-06T21:09:07.825424Z"
    },
    "papermill": {
     "duration": 0.473952,
     "end_time": "2022-02-06T21:09:07.827007",
     "exception": false,
     "start_time": "2022-02-06T21:09:07.353055",
     "status": "completed"
    },
    "tags": []
   },
   "outputs": [
    {
     "name": "stdout",
     "output_type": "stream",
     "text": [
      "'data.frame':\t96834 obs. of  13 variables:\n",
      " $ ride_id           : chr  \"E19E6F1B8D4C42ED\" \"DC88F20C2C55F27F\" \"EC45C94683FE3F27\" \"4FA453A75AE377DB\" ...\n",
      " $ rideable_type     : chr  \"electric_bike\" \"electric_bike\" \"electric_bike\" \"electric_bike\" ...\n",
      " $ started_at        : chr  \"2021-01-23 16:14:19\" \"2021-01-27 18:43:08\" \"2021-01-21 22:35:54\" \"2021-01-07 13:31:13\" ...\n",
      " $ ended_at          : chr  \"2021-01-23 16:24:44\" \"2021-01-27 18:47:12\" \"2021-01-21 22:37:14\" \"2021-01-07 13:42:55\" ...\n",
      " $ start_station_name: chr  \"California Ave & Cortez St\" \"California Ave & Cortez St\" \"California Ave & Cortez St\" \"California Ave & Cortez St\" ...\n",
      " $ start_station_id  : chr  \"17660\" \"17660\" \"17660\" \"17660\" ...\n",
      " $ end_station_name  : chr  \"\" \"\" \"\" \"\" ...\n",
      " $ end_station_id    : chr  \"\" \"\" \"\" \"\" ...\n",
      " $ start_lat         : num  41.9 41.9 41.9 41.9 41.9 ...\n",
      " $ start_lng         : num  -87.7 -87.7 -87.7 -87.7 -87.7 ...\n",
      " $ end_lat           : num  41.9 41.9 41.9 41.9 41.9 ...\n",
      " $ end_lng           : num  -87.7 -87.7 -87.7 -87.7 -87.7 ...\n",
      " $ member_casual     : chr  \"member\" \"member\" \"member\" \"member\" ...\n",
      "'data.frame':\t49622 obs. of  13 variables:\n",
      " $ ride_id           : chr  \"89E7AA6C29227EFF\" \"0FEFDE2603568365\" \"E6159D746B2DBB91\" \"B32D3199F1C2E75B\" ...\n",
      " $ rideable_type     : chr  \"classic_bike\" \"classic_bike\" \"electric_bike\" \"classic_bike\" ...\n",
      " $ started_at        : chr  \"2021-02-12 16:14:56\" \"2021-02-14 17:52:38\" \"2021-02-09 19:10:18\" \"2021-02-02 17:49:41\" ...\n",
      " $ ended_at          : chr  \"2021-02-12 16:21:43\" \"2021-02-14 18:12:09\" \"2021-02-09 19:19:10\" \"2021-02-02 17:54:06\" ...\n",
      " $ start_station_name: chr  \"Glenwood Ave & Touhy Ave\" \"Glenwood Ave & Touhy Ave\" \"Clark St & Lake St\" \"Wood St & Chicago Ave\" ...\n",
      " $ start_station_id  : chr  \"525\" \"525\" \"KA1503000012\" \"637\" ...\n",
      " $ end_station_name  : chr  \"Sheridan Rd & Columbia Ave\" \"Bosworth Ave & Howard St\" \"State St & Randolph St\" \"Honore St & Division St\" ...\n",
      " $ end_station_id    : chr  \"660\" \"16806\" \"TA1305000029\" \"TA1305000034\" ...\n",
      " $ start_lat         : num  42 42 41.9 41.9 41.8 ...\n",
      " $ start_lng         : num  -87.7 -87.7 -87.6 -87.7 -87.6 ...\n",
      " $ end_lat           : num  42 42 41.9 41.9 41.8 ...\n",
      " $ end_lng           : num  -87.7 -87.7 -87.6 -87.7 -87.6 ...\n",
      " $ member_casual     : chr  \"member\" \"casual\" \"member\" \"member\" ...\n",
      "'data.frame':\t228496 obs. of  13 variables:\n",
      " $ ride_id           : chr  \"CFA86D4455AA1030\" \"30D9DC61227D1AF3\" \"846D87A15682A284\" \"994D05AA75A168F2\" ...\n",
      " $ rideable_type     : chr  \"classic_bike\" \"classic_bike\" \"classic_bike\" \"classic_bike\" ...\n",
      " $ started_at        : chr  \"2021-03-16 08:32:30\" \"2021-03-28 01:26:28\" \"2021-03-11 21:17:29\" \"2021-03-11 13:26:42\" ...\n",
      " $ ended_at          : chr  \"2021-03-16 08:36:34\" \"2021-03-28 01:36:55\" \"2021-03-11 21:33:53\" \"2021-03-11 13:55:41\" ...\n",
      " $ start_station_name: chr  \"Humboldt Blvd & Armitage Ave\" \"Humboldt Blvd & Armitage Ave\" \"Shields Ave & 28th Pl\" \"Winthrop Ave & Lawrence Ave\" ...\n",
      " $ start_station_id  : chr  \"15651\" \"15651\" \"15443\" \"TA1308000021\" ...\n",
      " $ end_station_name  : chr  \"Stave St & Armitage Ave\" \"Central Park Ave & Bloomingdale Ave\" \"Halsted St & 35th St\" \"Broadway & Sheridan Rd\" ...\n",
      " $ end_station_id    : chr  \"13266\" \"18017\" \"TA1308000043\" \"13323\" ...\n",
      " $ start_lat         : num  41.9 41.9 41.8 42 42 ...\n",
      " $ start_lng         : num  -87.7 -87.7 -87.6 -87.7 -87.7 ...\n",
      " $ end_lat           : num  41.9 41.9 41.8 42 42.1 ...\n",
      " $ end_lng           : num  -87.7 -87.7 -87.6 -87.6 -87.7 ...\n",
      " $ member_casual     : chr  \"casual\" \"casual\" \"casual\" \"casual\" ...\n",
      "'data.frame':\t337230 obs. of  13 variables:\n",
      " $ ride_id           : chr  \"6C992BD37A98A63F\" \"1E0145613A209000\" \"E498E15508A80BAD\" \"1887262AD101C604\" ...\n",
      " $ rideable_type     : chr  \"classic_bike\" \"docked_bike\" \"docked_bike\" \"classic_bike\" ...\n",
      " $ started_at        : chr  \"2021-04-12 18:25:36\" \"2021-04-27 17:27:11\" \"2021-04-03 12:42:45\" \"2021-04-17 09:17:42\" ...\n",
      " $ ended_at          : chr  \"2021-04-12 18:56:55\" \"2021-04-27 18:31:29\" \"2021-04-07 11:40:24\" \"2021-04-17 09:42:48\" ...\n",
      " $ start_station_name: chr  \"State St & Pearson St\" \"Dorchester Ave & 49th St\" \"Loomis Blvd & 84th St\" \"Honore St & Division St\" ...\n",
      " $ start_station_id  : chr  \"TA1307000061\" \"KA1503000069\" \"20121\" \"TA1305000034\" ...\n",
      " $ end_station_name  : chr  \"Southport Ave & Waveland Ave\" \"Dorchester Ave & 49th St\" \"Loomis Blvd & 84th St\" \"Southport Ave & Waveland Ave\" ...\n",
      " $ end_station_id    : chr  \"13235\" \"KA1503000069\" \"20121\" \"13235\" ...\n",
      " $ start_lat         : num  41.9 41.8 41.7 41.9 41.7 ...\n",
      " $ start_lng         : num  -87.6 -87.6 -87.7 -87.7 -87.7 ...\n",
      " $ end_lat           : num  41.9 41.8 41.7 41.9 41.7 ...\n",
      " $ end_lng           : num  -87.7 -87.6 -87.7 -87.7 -87.7 ...\n",
      " $ member_casual     : chr  \"member\" \"casual\" \"casual\" \"member\" ...\n",
      "'data.frame':\t327554 obs. of  13 variables:\n",
      " $ ride_id           : chr  \"C809ED75D6160B2A\" \"DD59FDCE0ACACAF3\" \"0AB83CB88C43EFC2\" \"7881AC6D39110C60\" ...\n",
      " $ rideable_type     : chr  \"electric_bike\" \"electric_bike\" \"electric_bike\" \"electric_bike\" ...\n",
      " $ started_at        : chr  \"2021-05-30 11:58:15\" \"2021-05-30 11:29:14\" \"2021-05-30 14:24:01\" \"2021-05-30 14:25:51\" ...\n",
      " $ ended_at          : chr  \"2021-05-30 12:10:39\" \"2021-05-30 12:14:09\" \"2021-05-30 14:25:13\" \"2021-05-30 14:41:04\" ...\n",
      " $ start_station_name: chr  \"\" \"\" \"\" \"\" ...\n",
      " $ start_station_id  : chr  \"\" \"\" \"\" \"\" ...\n",
      " $ end_station_name  : chr  \"\" \"\" \"\" \"\" ...\n",
      " $ end_station_id    : chr  \"\" \"\" \"\" \"\" ...\n",
      " $ start_lat         : num  41.9 41.9 41.9 41.9 41.9 ...\n",
      " $ start_lng         : num  -87.6 -87.6 -87.7 -87.7 -87.7 ...\n",
      " $ end_lat           : num  41.9 41.8 41.9 41.9 41.9 ...\n",
      " $ end_lng           : num  -87.6 -87.6 -87.7 -87.7 -87.7 ...\n",
      " $ member_casual     : chr  \"casual\" \"casual\" \"casual\" \"casual\" ...\n",
      "'data.frame':\t729595 obs. of  13 variables:\n",
      " $ ride_id           : chr  \"99FEC93BA843FB20\" \"06048DCFC8520CAF\" \"9598066F68045DF2\" \"B03C0FE48C412214\" ...\n",
      " $ rideable_type     : chr  \"electric_bike\" \"electric_bike\" \"electric_bike\" \"electric_bike\" ...\n",
      " $ started_at        : chr  \"2021-06-13 14:31:28\" \"2021-06-04 11:18:02\" \"2021-06-04 09:49:35\" \"2021-06-03 19:56:05\" ...\n",
      " $ ended_at          : chr  \"2021-06-13 14:34:11\" \"2021-06-04 11:24:19\" \"2021-06-04 09:55:34\" \"2021-06-03 20:21:55\" ...\n",
      " $ start_station_name: chr  \"\" \"\" \"\" \"\" ...\n",
      " $ start_station_id  : chr  \"\" \"\" \"\" \"\" ...\n",
      " $ end_station_name  : chr  \"\" \"\" \"\" \"\" ...\n",
      " $ end_station_id    : chr  \"\" \"\" \"\" \"\" ...\n",
      " $ start_lat         : num  41.8 41.8 41.8 41.8 41.8 ...\n",
      " $ start_lng         : num  -87.6 -87.6 -87.6 -87.6 -87.6 ...\n",
      " $ end_lat           : num  41.8 41.8 41.8 41.8 41.8 ...\n",
      " $ end_lng           : num  -87.6 -87.6 -87.6 -87.6 -87.6 ...\n",
      " $ member_casual     : chr  \"member\" \"member\" \"member\" \"member\" ...\n",
      "'data.frame':\t822410 obs. of  13 variables:\n",
      " $ ride_id           : chr  \"0A1B623926EF4E16\" \"B2D5583A5A5E76EE\" \"6F264597DDBF427A\" \"379B58EAB20E8AA5\" ...\n",
      " $ rideable_type     : chr  \"docked_bike\" \"classic_bike\" \"classic_bike\" \"classic_bike\" ...\n",
      " $ started_at        : chr  \"2021-07-02 14:44:36\" \"2021-07-07 16:57:42\" \"2021-07-25 11:30:55\" \"2021-07-08 22:08:30\" ...\n",
      " $ ended_at          : chr  \"2021-07-02 15:19:58\" \"2021-07-07 17:16:09\" \"2021-07-25 11:48:45\" \"2021-07-08 22:23:32\" ...\n",
      " $ start_station_name: chr  \"Michigan Ave & Washington St\" \"California Ave & Cortez St\" \"Wabash Ave & 16th St\" \"California Ave & Cortez St\" ...\n",
      " $ start_station_id  : chr  \"13001\" \"17660\" \"SL-012\" \"17660\" ...\n",
      " $ end_station_name  : chr  \"Halsted St & North Branch St\" \"Wood St & Hubbard St\" \"Rush St & Hubbard St\" \"Carpenter St & Huron St\" ...\n",
      " $ end_station_id    : chr  \"KA1504000117\" \"13432\" \"KA1503000044\" \"13196\" ...\n",
      " $ start_lat         : num  41.9 41.9 41.9 41.9 41.9 ...\n",
      " $ start_lng         : num  -87.6 -87.7 -87.6 -87.7 -87.7 ...\n",
      " $ end_lat           : num  41.9 41.9 41.9 41.9 41.9 ...\n",
      " $ end_lng           : num  -87.6 -87.7 -87.6 -87.7 -87.7 ...\n",
      " $ member_casual     : chr  \"casual\" \"casual\" \"member\" \"member\" ...\n",
      "'data.frame':\t804352 obs. of  13 variables:\n",
      " $ ride_id           : chr  \"99103BB87CC6C1BB\" \"EAFCCCFB0A3FC5A1\" \"9EF4F46C57AD234D\" \"5834D3208BFAF1DA\" ...\n",
      " $ rideable_type     : chr  \"electric_bike\" \"electric_bike\" \"electric_bike\" \"electric_bike\" ...\n",
      " $ started_at        : chr  \"2021-08-10 17:15:49\" \"2021-08-10 17:23:14\" \"2021-08-21 02:34:23\" \"2021-08-21 06:52:55\" ...\n",
      " $ ended_at          : chr  \"2021-08-10 17:22:44\" \"2021-08-10 17:39:24\" \"2021-08-21 02:50:36\" \"2021-08-21 07:08:13\" ...\n",
      " $ start_station_name: chr  \"\" \"\" \"\" \"\" ...\n",
      " $ start_station_id  : chr  \"\" \"\" \"\" \"\" ...\n",
      " $ end_station_name  : chr  \"\" \"\" \"\" \"\" ...\n",
      " $ end_station_id    : chr  \"\" \"\" \"\" \"\" ...\n",
      " $ start_lat         : num  41.8 41.8 42 42 41.8 ...\n",
      " $ start_lng         : num  -87.7 -87.7 -87.7 -87.7 -87.6 ...\n",
      " $ end_lat           : num  41.8 41.8 42 42 41.8 ...\n",
      " $ end_lng           : num  -87.7 -87.6 -87.7 -87.7 -87.6 ...\n",
      " $ member_casual     : chr  \"member\" \"member\" \"member\" \"member\" ...\n",
      "'data.frame':\t756147 obs. of  13 variables:\n",
      " $ ride_id           : chr  \"9DC7B962304CBFD8\" \"F930E2C6872D6B32\" \"6EF72137900BB910\" \"78D1DE133B3DBF55\" ...\n",
      " $ rideable_type     : chr  \"electric_bike\" \"electric_bike\" \"electric_bike\" \"electric_bike\" ...\n",
      " $ started_at        : chr  \"2021-09-28 16:07:10\" \"2021-09-28 14:24:51\" \"2021-09-28 00:20:16\" \"2021-09-28 14:51:17\" ...\n",
      " $ ended_at          : chr  \"2021-09-28 16:09:54\" \"2021-09-28 14:40:05\" \"2021-09-28 00:23:57\" \"2021-09-28 15:00:06\" ...\n",
      " $ start_station_name: chr  \"\" \"\" \"\" \"\" ...\n",
      " $ start_station_id  : chr  \"\" \"\" \"\" \"\" ...\n",
      " $ end_station_name  : chr  \"\" \"\" \"\" \"\" ...\n",
      " $ end_station_id    : chr  \"\" \"\" \"\" \"\" ...\n",
      " $ start_lat         : num  41.9 41.9 41.8 41.8 41.9 ...\n",
      " $ start_lng         : num  -87.7 -87.6 -87.7 -87.7 -87.7 ...\n",
      " $ end_lat           : num  41.9 42 41.8 41.8 41.9 ...\n",
      " $ end_lng           : num  -87.7 -87.7 -87.7 -87.7 -87.7 ...\n",
      " $ member_casual     : chr  \"casual\" \"casual\" \"casual\" \"casual\" ...\n",
      "'data.frame':\t631226 obs. of  13 variables:\n",
      " $ ride_id           : chr  \"620BC6107255BF4C\" \"4471C70731AB2E45\" \"26CA69D43D15EE14\" \"362947F0437E1514\" ...\n",
      " $ rideable_type     : chr  \"electric_bike\" \"electric_bike\" \"electric_bike\" \"electric_bike\" ...\n",
      " $ started_at        : chr  \"2021-10-22 12:46:42\" \"2021-10-21 09:12:37\" \"2021-10-16 16:28:39\" \"2021-10-16 16:17:48\" ...\n",
      " $ ended_at          : chr  \"2021-10-22 12:49:50\" \"2021-10-21 09:14:14\" \"2021-10-16 16:36:26\" \"2021-10-16 16:19:03\" ...\n",
      " $ start_station_name: chr  \"Kingsbury St & Kinzie St\" \"\" \"\" \"\" ...\n",
      " $ start_station_id  : chr  \"KA1503000043\" \"\" \"\" \"\" ...\n",
      " $ end_station_name  : chr  \"\" \"\" \"\" \"\" ...\n",
      " $ end_station_id    : chr  \"\" \"\" \"\" \"\" ...\n",
      " $ start_lat         : num  41.9 41.9 41.9 41.9 41.9 ...\n",
      " $ start_lng         : num  -87.6 -87.7 -87.7 -87.7 -87.7 ...\n",
      " $ end_lat           : num  41.9 41.9 41.9 41.9 41.9 ...\n",
      " $ end_lng           : num  -87.6 -87.7 -87.7 -87.7 -87.7 ...\n",
      " $ member_casual     : chr  \"member\" \"member\" \"member\" \"member\" ...\n",
      "'data.frame':\t359978 obs. of  13 variables:\n",
      " $ ride_id           : chr  \"7C00A93E10556E47\" \"90854840DFD508BA\" \"0A7D10CDD144061C\" \"2F3BE33085BCFF02\" ...\n",
      " $ rideable_type     : chr  \"electric_bike\" \"electric_bike\" \"electric_bike\" \"electric_bike\" ...\n",
      " $ started_at        : chr  \"2021-11-27 13:27:38\" \"2021-11-27 13:38:25\" \"2021-11-26 22:03:34\" \"2021-11-27 09:56:49\" ...\n",
      " $ ended_at          : chr  \"2021-11-27 13:46:38\" \"2021-11-27 13:56:10\" \"2021-11-26 22:05:56\" \"2021-11-27 10:01:50\" ...\n",
      " $ start_station_name: chr  \"\" \"\" \"\" \"\" ...\n",
      " $ start_station_id  : chr  \"\" \"\" \"\" \"\" ...\n",
      " $ end_station_name  : chr  \"\" \"\" \"\" \"\" ...\n",
      " $ end_station_id    : chr  \"\" \"\" \"\" \"\" ...\n",
      " $ start_lat         : num  41.9 42 42 41.9 41.9 ...\n",
      " $ start_lng         : num  -87.7 -87.7 -87.7 -87.8 -87.6 ...\n",
      " $ end_lat           : num  42 41.9 42 41.9 41.9 ...\n",
      " $ end_lng           : num  -87.7 -87.7 -87.7 -87.8 -87.6 ...\n",
      " $ member_casual     : chr  \"casual\" \"casual\" \"casual\" \"casual\" ...\n",
      "'data.frame':\t247540 obs. of  13 variables:\n",
      " $ ride_id           : chr  \"46F8167220E4431F\" \"73A77762838B32FD\" \"4CF42452054F59C5\" \"3278BA87BF698339\" ...\n",
      " $ rideable_type     : chr  \"electric_bike\" \"electric_bike\" \"electric_bike\" \"classic_bike\" ...\n",
      " $ started_at        : chr  \"2021-12-07 15:06:07\" \"2021-12-11 03:43:29\" \"2021-12-15 23:10:28\" \"2021-12-26 16:16:10\" ...\n",
      " $ ended_at          : chr  \"2021-12-07 15:13:42\" \"2021-12-11 04:10:23\" \"2021-12-15 23:23:14\" \"2021-12-26 16:30:53\" ...\n",
      " $ start_station_name: chr  \"Laflin St & Cullerton St\" \"LaSalle Dr & Huron St\" \"Halsted St & North Branch St\" \"Halsted St & North Branch St\" ...\n",
      " $ start_station_id  : chr  \"13307\" \"KP1705001026\" \"KA1504000117\" \"KA1504000117\" ...\n",
      " $ end_station_name  : chr  \"Morgan St & Polk St\" \"Clarendon Ave & Leland Ave\" \"Broadway & Barry Ave\" \"LaSalle Dr & Huron St\" ...\n",
      " $ end_station_id    : chr  \"TA1307000130\" \"TA1307000119\" \"13137\" \"KP1705001026\" ...\n",
      " $ start_lat         : num  41.9 41.9 41.9 41.9 41.9 ...\n",
      " $ start_lng         : num  -87.7 -87.6 -87.6 -87.6 -87.7 ...\n",
      " $ end_lat           : num  41.9 42 41.9 41.9 41.9 ...\n",
      " $ end_lng           : num  -87.7 -87.7 -87.6 -87.6 -87.6 ...\n",
      " $ member_casual     : chr  \"member\" \"casual\" \"member\" \"member\" ...\n"
     ]
    }
   ],
   "source": [
    "str(jan_21)\n",
    "str(feb_21)\n",
    "str(mar_21)\n",
    "str(apr_21)\n",
    "str(may_21)\n",
    "str(jun_21)\n",
    "str(jul_21)\n",
    "str(aug_21)\n",
    "str(sep_21)\n",
    "str(oct_21)\n",
    "str(nov_21)\n",
    "str(dec_21)"
   ]
  },
  {
   "cell_type": "markdown",
   "id": "0ef4f318",
   "metadata": {
    "papermill": {
     "duration": 0.22362,
     "end_time": "2022-02-06T21:09:08.275786",
     "exception": false,
     "start_time": "2022-02-06T21:09:08.052166",
     "status": "completed"
    },
    "tags": []
   },
   "source": [
    "<font size = \"3\"> Now that it is clear that all the columns have the same name and structure. It is time to Merge </font>\n",
    "\n",
    "### Merge individual data frames into one data frame"
   ]
  },
  {
   "cell_type": "code",
   "execution_count": 6,
   "id": "e9df68ab",
   "metadata": {
    "execution": {
     "iopub.execute_input": "2022-02-06T21:09:08.735757Z",
     "iopub.status.busy": "2022-02-06T21:09:08.733797Z",
     "iopub.status.idle": "2022-02-06T21:09:20.951699Z",
     "shell.execute_reply": "2022-02-06T21:09:20.949334Z"
    },
    "papermill": {
     "duration": 12.446734,
     "end_time": "2022-02-06T21:09:20.951960",
     "exception": false,
     "start_time": "2022-02-06T21:09:08.505226",
     "status": "completed"
    },
    "tags": []
   },
   "outputs": [],
   "source": [
    "combined_trips <- bind_rows(jan_21, feb_21, mar_21, apr_21, may_21, jun_21, jul_21, aug_21, sep_21, oct_21, nov_21, dec_21)"
   ]
  },
  {
   "cell_type": "markdown",
   "id": "fbbbb9a6",
   "metadata": {
    "papermill": {
     "duration": 0.224565,
     "end_time": "2022-02-06T21:09:21.407886",
     "exception": false,
     "start_time": "2022-02-06T21:09:21.183321",
     "status": "completed"
    },
    "tags": []
   },
   "source": [
    "### Inspect the combined data frame "
   ]
  },
  {
   "cell_type": "code",
   "execution_count": 7,
   "id": "2e26cf48",
   "metadata": {
    "execution": {
     "iopub.execute_input": "2022-02-06T21:09:21.864667Z",
     "iopub.status.busy": "2022-02-06T21:09:21.863236Z",
     "iopub.status.idle": "2022-02-06T21:09:21.902628Z",
     "shell.execute_reply": "2022-02-06T21:09:21.901743Z"
    },
    "papermill": {
     "duration": 0.268764,
     "end_time": "2022-02-06T21:09:21.902767",
     "exception": false,
     "start_time": "2022-02-06T21:09:21.634003",
     "status": "completed"
    },
    "tags": []
   },
   "outputs": [
    {
     "data": {
      "text/html": [
       "<style>\n",
       ".list-inline {list-style: none; margin:0; padding: 0}\n",
       ".list-inline>li {display: inline-block}\n",
       ".list-inline>li:not(:last-child)::after {content: \"\\00b7\"; padding: 0 .5ex}\n",
       "</style>\n",
       "<ol class=list-inline><li>'ride_id'</li><li>'rideable_type'</li><li>'started_at'</li><li>'ended_at'</li><li>'start_station_name'</li><li>'start_station_id'</li><li>'end_station_name'</li><li>'end_station_id'</li><li>'start_lat'</li><li>'start_lng'</li><li>'end_lat'</li><li>'end_lng'</li><li>'member_casual'</li></ol>\n"
      ],
      "text/latex": [
       "\\begin{enumerate*}\n",
       "\\item 'ride\\_id'\n",
       "\\item 'rideable\\_type'\n",
       "\\item 'started\\_at'\n",
       "\\item 'ended\\_at'\n",
       "\\item 'start\\_station\\_name'\n",
       "\\item 'start\\_station\\_id'\n",
       "\\item 'end\\_station\\_name'\n",
       "\\item 'end\\_station\\_id'\n",
       "\\item 'start\\_lat'\n",
       "\\item 'start\\_lng'\n",
       "\\item 'end\\_lat'\n",
       "\\item 'end\\_lng'\n",
       "\\item 'member\\_casual'\n",
       "\\end{enumerate*}\n"
      ],
      "text/markdown": [
       "1. 'ride_id'\n",
       "2. 'rideable_type'\n",
       "3. 'started_at'\n",
       "4. 'ended_at'\n",
       "5. 'start_station_name'\n",
       "6. 'start_station_id'\n",
       "7. 'end_station_name'\n",
       "8. 'end_station_id'\n",
       "9. 'start_lat'\n",
       "10. 'start_lng'\n",
       "11. 'end_lat'\n",
       "12. 'end_lng'\n",
       "13. 'member_casual'\n",
       "\n",
       "\n"
      ],
      "text/plain": [
       " [1] \"ride_id\"            \"rideable_type\"      \"started_at\"        \n",
       " [4] \"ended_at\"           \"start_station_name\" \"start_station_id\"  \n",
       " [7] \"end_station_name\"   \"end_station_id\"     \"start_lat\"         \n",
       "[10] \"start_lng\"          \"end_lat\"            \"end_lng\"           \n",
       "[13] \"member_casual\"     "
      ]
     },
     "metadata": {},
     "output_type": "display_data"
    },
    {
     "name": "stdout",
     "output_type": "stream",
     "text": [
      "'data.frame':\t5390984 obs. of  13 variables:\n",
      " $ ride_id           : chr  \"E19E6F1B8D4C42ED\" \"DC88F20C2C55F27F\" \"EC45C94683FE3F27\" \"4FA453A75AE377DB\" ...\n",
      " $ rideable_type     : chr  \"electric_bike\" \"electric_bike\" \"electric_bike\" \"electric_bike\" ...\n",
      " $ started_at        : chr  \"2021-01-23 16:14:19\" \"2021-01-27 18:43:08\" \"2021-01-21 22:35:54\" \"2021-01-07 13:31:13\" ...\n",
      " $ ended_at          : chr  \"2021-01-23 16:24:44\" \"2021-01-27 18:47:12\" \"2021-01-21 22:37:14\" \"2021-01-07 13:42:55\" ...\n",
      " $ start_station_name: chr  \"California Ave & Cortez St\" \"California Ave & Cortez St\" \"California Ave & Cortez St\" \"California Ave & Cortez St\" ...\n",
      " $ start_station_id  : chr  \"17660\" \"17660\" \"17660\" \"17660\" ...\n",
      " $ end_station_name  : chr  \"\" \"\" \"\" \"\" ...\n",
      " $ end_station_id    : chr  \"\" \"\" \"\" \"\" ...\n",
      " $ start_lat         : num  41.9 41.9 41.9 41.9 41.9 ...\n",
      " $ start_lng         : num  -87.7 -87.7 -87.7 -87.7 -87.7 ...\n",
      " $ end_lat           : num  41.9 41.9 41.9 41.9 41.9 ...\n",
      " $ end_lng           : num  -87.7 -87.7 -87.7 -87.7 -87.7 ...\n",
      " $ member_casual     : chr  \"member\" \"member\" \"member\" \"member\" ...\n"
     ]
    }
   ],
   "source": [
    "colnames(combined_trips)\n",
    "str(combined_trips)"
   ]
  },
  {
   "cell_type": "markdown",
   "id": "39d80fd8",
   "metadata": {
    "papermill": {
     "duration": 0.235609,
     "end_time": "2022-02-06T21:09:22.376946",
     "exception": false,
     "start_time": "2022-02-06T21:09:22.141337",
     "status": "completed"
    },
    "tags": []
   },
   "source": [
    "### Remove the unnecessary columns"
   ]
  },
  {
   "cell_type": "code",
   "execution_count": 8,
   "id": "ae8e7fce",
   "metadata": {
    "execution": {
     "iopub.execute_input": "2022-02-06T21:09:22.842029Z",
     "iopub.status.busy": "2022-02-06T21:09:22.840536Z",
     "iopub.status.idle": "2022-02-06T21:09:22.868059Z",
     "shell.execute_reply": "2022-02-06T21:09:22.866949Z"
    },
    "papermill": {
     "duration": 0.259505,
     "end_time": "2022-02-06T21:09:22.868199",
     "exception": false,
     "start_time": "2022-02-06T21:09:22.608694",
     "status": "completed"
    },
    "tags": []
   },
   "outputs": [],
   "source": [
    "combined_trips_v1 <- combined_trips %>% \n",
    "  select(-c(start_lat, start_lng, end_lat, end_lng, start_station_name, end_station_name))"
   ]
  },
  {
   "cell_type": "markdown",
   "id": "970dfb95",
   "metadata": {
    "papermill": {
     "duration": 0.22721,
     "end_time": "2022-02-06T21:09:23.322009",
     "exception": false,
     "start_time": "2022-02-06T21:09:23.094799",
     "status": "completed"
    },
    "tags": []
   },
   "source": [
    "### Inspect the new combined data frame"
   ]
  },
  {
   "cell_type": "code",
   "execution_count": 9,
   "id": "a1907a7b",
   "metadata": {
    "execution": {
     "iopub.execute_input": "2022-02-06T21:09:23.785596Z",
     "iopub.status.busy": "2022-02-06T21:09:23.783546Z",
     "iopub.status.idle": "2022-02-06T21:09:23.857624Z",
     "shell.execute_reply": "2022-02-06T21:09:23.855911Z"
    },
    "papermill": {
     "duration": 0.306899,
     "end_time": "2022-02-06T21:09:23.857771",
     "exception": false,
     "start_time": "2022-02-06T21:09:23.550872",
     "status": "completed"
    },
    "tags": []
   },
   "outputs": [
    {
     "data": {
      "text/html": [
       "<style>\n",
       ".list-inline {list-style: none; margin:0; padding: 0}\n",
       ".list-inline>li {display: inline-block}\n",
       ".list-inline>li:not(:last-child)::after {content: \"\\00b7\"; padding: 0 .5ex}\n",
       "</style>\n",
       "<ol class=list-inline><li>'ride_id'</li><li>'rideable_type'</li><li>'started_at'</li><li>'ended_at'</li><li>'start_station_id'</li><li>'end_station_id'</li><li>'member_casual'</li></ol>\n"
      ],
      "text/latex": [
       "\\begin{enumerate*}\n",
       "\\item 'ride\\_id'\n",
       "\\item 'rideable\\_type'\n",
       "\\item 'started\\_at'\n",
       "\\item 'ended\\_at'\n",
       "\\item 'start\\_station\\_id'\n",
       "\\item 'end\\_station\\_id'\n",
       "\\item 'member\\_casual'\n",
       "\\end{enumerate*}\n"
      ],
      "text/markdown": [
       "1. 'ride_id'\n",
       "2. 'rideable_type'\n",
       "3. 'started_at'\n",
       "4. 'ended_at'\n",
       "5. 'start_station_id'\n",
       "6. 'end_station_id'\n",
       "7. 'member_casual'\n",
       "\n",
       "\n"
      ],
      "text/plain": [
       "[1] \"ride_id\"          \"rideable_type\"    \"started_at\"       \"ended_at\"        \n",
       "[5] \"start_station_id\" \"end_station_id\"   \"member_casual\"   "
      ]
     },
     "metadata": {},
     "output_type": "display_data"
    },
    {
     "data": {
      "text/html": [
       "5390984"
      ],
      "text/latex": [
       "5390984"
      ],
      "text/markdown": [
       "5390984"
      ],
      "text/plain": [
       "[1] 5390984"
      ]
     },
     "metadata": {},
     "output_type": "display_data"
    },
    {
     "data": {
      "text/html": [
       "<style>\n",
       ".list-inline {list-style: none; margin:0; padding: 0}\n",
       ".list-inline>li {display: inline-block}\n",
       ".list-inline>li:not(:last-child)::after {content: \"\\00b7\"; padding: 0 .5ex}\n",
       "</style>\n",
       "<ol class=list-inline><li>5390984</li><li>7</li></ol>\n"
      ],
      "text/latex": [
       "\\begin{enumerate*}\n",
       "\\item 5390984\n",
       "\\item 7\n",
       "\\end{enumerate*}\n"
      ],
      "text/markdown": [
       "1. 5390984\n",
       "2. 7\n",
       "\n",
       "\n"
      ],
      "text/plain": [
       "[1] 5390984       7"
      ]
     },
     "metadata": {},
     "output_type": "display_data"
    },
    {
     "data": {
      "text/html": [
       "<table class=\"dataframe\">\n",
       "<caption>A data.frame: 6 × 7</caption>\n",
       "<thead>\n",
       "\t<tr><th></th><th scope=col>ride_id</th><th scope=col>rideable_type</th><th scope=col>started_at</th><th scope=col>ended_at</th><th scope=col>start_station_id</th><th scope=col>end_station_id</th><th scope=col>member_casual</th></tr>\n",
       "\t<tr><th></th><th scope=col>&lt;chr&gt;</th><th scope=col>&lt;chr&gt;</th><th scope=col>&lt;chr&gt;</th><th scope=col>&lt;chr&gt;</th><th scope=col>&lt;chr&gt;</th><th scope=col>&lt;chr&gt;</th><th scope=col>&lt;chr&gt;</th></tr>\n",
       "</thead>\n",
       "<tbody>\n",
       "\t<tr><th scope=row>1</th><td>E19E6F1B8D4C42ED</td><td>electric_bike</td><td>2021-01-23 16:14:19</td><td>2021-01-23 16:24:44</td><td>17660</td><td></td><td>member</td></tr>\n",
       "\t<tr><th scope=row>2</th><td>DC88F20C2C55F27F</td><td>electric_bike</td><td>2021-01-27 18:43:08</td><td>2021-01-27 18:47:12</td><td>17660</td><td></td><td>member</td></tr>\n",
       "\t<tr><th scope=row>3</th><td>EC45C94683FE3F27</td><td>electric_bike</td><td>2021-01-21 22:35:54</td><td>2021-01-21 22:37:14</td><td>17660</td><td></td><td>member</td></tr>\n",
       "\t<tr><th scope=row>4</th><td>4FA453A75AE377DB</td><td>electric_bike</td><td>2021-01-07 13:31:13</td><td>2021-01-07 13:42:55</td><td>17660</td><td></td><td>member</td></tr>\n",
       "\t<tr><th scope=row>5</th><td>BE5E8EB4E7263A0B</td><td>electric_bike</td><td>2021-01-23 02:24:02</td><td>2021-01-23 02:24:45</td><td>17660</td><td></td><td>casual</td></tr>\n",
       "\t<tr><th scope=row>6</th><td>5D8969F88C773979</td><td>electric_bike</td><td>2021-01-09 14:24:07</td><td>2021-01-09 15:17:54</td><td>17660</td><td></td><td>casual</td></tr>\n",
       "</tbody>\n",
       "</table>\n"
      ],
      "text/latex": [
       "A data.frame: 6 × 7\n",
       "\\begin{tabular}{r|lllllll}\n",
       "  & ride\\_id & rideable\\_type & started\\_at & ended\\_at & start\\_station\\_id & end\\_station\\_id & member\\_casual\\\\\n",
       "  & <chr> & <chr> & <chr> & <chr> & <chr> & <chr> & <chr>\\\\\n",
       "\\hline\n",
       "\t1 & E19E6F1B8D4C42ED & electric\\_bike & 2021-01-23 16:14:19 & 2021-01-23 16:24:44 & 17660 &  & member\\\\\n",
       "\t2 & DC88F20C2C55F27F & electric\\_bike & 2021-01-27 18:43:08 & 2021-01-27 18:47:12 & 17660 &  & member\\\\\n",
       "\t3 & EC45C94683FE3F27 & electric\\_bike & 2021-01-21 22:35:54 & 2021-01-21 22:37:14 & 17660 &  & member\\\\\n",
       "\t4 & 4FA453A75AE377DB & electric\\_bike & 2021-01-07 13:31:13 & 2021-01-07 13:42:55 & 17660 &  & member\\\\\n",
       "\t5 & BE5E8EB4E7263A0B & electric\\_bike & 2021-01-23 02:24:02 & 2021-01-23 02:24:45 & 17660 &  & casual\\\\\n",
       "\t6 & 5D8969F88C773979 & electric\\_bike & 2021-01-09 14:24:07 & 2021-01-09 15:17:54 & 17660 &  & casual\\\\\n",
       "\\end{tabular}\n"
      ],
      "text/markdown": [
       "\n",
       "A data.frame: 6 × 7\n",
       "\n",
       "| <!--/--> | ride_id &lt;chr&gt; | rideable_type &lt;chr&gt; | started_at &lt;chr&gt; | ended_at &lt;chr&gt; | start_station_id &lt;chr&gt; | end_station_id &lt;chr&gt; | member_casual &lt;chr&gt; |\n",
       "|---|---|---|---|---|---|---|---|\n",
       "| 1 | E19E6F1B8D4C42ED | electric_bike | 2021-01-23 16:14:19 | 2021-01-23 16:24:44 | 17660 | <!----> | member |\n",
       "| 2 | DC88F20C2C55F27F | electric_bike | 2021-01-27 18:43:08 | 2021-01-27 18:47:12 | 17660 | <!----> | member |\n",
       "| 3 | EC45C94683FE3F27 | electric_bike | 2021-01-21 22:35:54 | 2021-01-21 22:37:14 | 17660 | <!----> | member |\n",
       "| 4 | 4FA453A75AE377DB | electric_bike | 2021-01-07 13:31:13 | 2021-01-07 13:42:55 | 17660 | <!----> | member |\n",
       "| 5 | BE5E8EB4E7263A0B | electric_bike | 2021-01-23 02:24:02 | 2021-01-23 02:24:45 | 17660 | <!----> | casual |\n",
       "| 6 | 5D8969F88C773979 | electric_bike | 2021-01-09 14:24:07 | 2021-01-09 15:17:54 | 17660 | <!----> | casual |\n",
       "\n"
      ],
      "text/plain": [
       "  ride_id          rideable_type started_at          ended_at           \n",
       "1 E19E6F1B8D4C42ED electric_bike 2021-01-23 16:14:19 2021-01-23 16:24:44\n",
       "2 DC88F20C2C55F27F electric_bike 2021-01-27 18:43:08 2021-01-27 18:47:12\n",
       "3 EC45C94683FE3F27 electric_bike 2021-01-21 22:35:54 2021-01-21 22:37:14\n",
       "4 4FA453A75AE377DB electric_bike 2021-01-07 13:31:13 2021-01-07 13:42:55\n",
       "5 BE5E8EB4E7263A0B electric_bike 2021-01-23 02:24:02 2021-01-23 02:24:45\n",
       "6 5D8969F88C773979 electric_bike 2021-01-09 14:24:07 2021-01-09 15:17:54\n",
       "  start_station_id end_station_id member_casual\n",
       "1 17660                           member       \n",
       "2 17660                           member       \n",
       "3 17660                           member       \n",
       "4 17660                           member       \n",
       "5 17660                           casual       \n",
       "6 17660                           casual       "
      ]
     },
     "metadata": {},
     "output_type": "display_data"
    },
    {
     "name": "stdout",
     "output_type": "stream",
     "text": [
      "'data.frame':\t5390984 obs. of  7 variables:\n",
      " $ ride_id         : chr  \"E19E6F1B8D4C42ED\" \"DC88F20C2C55F27F\" \"EC45C94683FE3F27\" \"4FA453A75AE377DB\" ...\n",
      " $ rideable_type   : chr  \"electric_bike\" \"electric_bike\" \"electric_bike\" \"electric_bike\" ...\n",
      " $ started_at      : chr  \"2021-01-23 16:14:19\" \"2021-01-27 18:43:08\" \"2021-01-21 22:35:54\" \"2021-01-07 13:31:13\" ...\n",
      " $ ended_at        : chr  \"2021-01-23 16:24:44\" \"2021-01-27 18:47:12\" \"2021-01-21 22:37:14\" \"2021-01-07 13:42:55\" ...\n",
      " $ start_station_id: chr  \"17660\" \"17660\" \"17660\" \"17660\" ...\n",
      " $ end_station_id  : chr  \"\" \"\" \"\" \"\" ...\n",
      " $ member_casual   : chr  \"member\" \"member\" \"member\" \"member\" ...\n"
     ]
    },
    {
     "data": {
      "text/plain": [
       "   ride_id          rideable_type       started_at          ended_at        \n",
       " Length:5390984     Length:5390984     Length:5390984     Length:5390984    \n",
       " Class :character   Class :character   Class :character   Class :character  \n",
       " Mode  :character   Mode  :character   Mode  :character   Mode  :character  \n",
       " start_station_id   end_station_id     member_casual     \n",
       " Length:5390984     Length:5390984     Length:5390984    \n",
       " Class :character   Class :character   Class :character  \n",
       " Mode  :character   Mode  :character   Mode  :character  "
      ]
     },
     "metadata": {},
     "output_type": "display_data"
    }
   ],
   "source": [
    "colnames(combined_trips_v1)\n",
    "nrow(combined_trips_v1)\n",
    "dim(combined_trips_v1)\n",
    "head(combined_trips_v1)\n",
    "str(combined_trips_v1)\n",
    "summary(combined_trips_v1)"
   ]
  },
  {
   "cell_type": "markdown",
   "id": "360bdfeb",
   "metadata": {
    "papermill": {
     "duration": 0.241907,
     "end_time": "2022-02-06T21:09:24.342653",
     "exception": false,
     "start_time": "2022-02-06T21:09:24.100746",
     "status": "completed"
    },
    "tags": []
   },
   "source": [
    "### Check if member_casual column contain many observations\n"
   ]
  },
  {
   "cell_type": "code",
   "execution_count": 10,
   "id": "e9e4b3ff",
   "metadata": {
    "execution": {
     "iopub.execute_input": "2022-02-06T21:09:24.835243Z",
     "iopub.status.busy": "2022-02-06T21:09:24.833776Z",
     "iopub.status.idle": "2022-02-06T21:09:25.292400Z",
     "shell.execute_reply": "2022-02-06T21:09:25.291148Z"
    },
    "papermill": {
     "duration": 0.705984,
     "end_time": "2022-02-06T21:09:25.292657",
     "exception": false,
     "start_time": "2022-02-06T21:09:24.586673",
     "status": "completed"
    },
    "tags": []
   },
   "outputs": [
    {
     "name": "stdout",
     "output_type": "stream",
     "text": [
      "\n",
      "         casual  member \n",
      "      1 2426538 2964445 \n"
     ]
    }
   ],
   "source": [
    "table <- table(combined_trips_v1$member_casual)\n",
    "print(table)"
   ]
  },
  {
   "cell_type": "markdown",
   "id": "baa2e76c",
   "metadata": {
    "papermill": {
     "duration": 0.243941,
     "end_time": "2022-02-06T21:09:25.782139",
     "exception": false,
     "start_time": "2022-02-06T21:09:25.538198",
     "status": "completed"
    },
    "tags": []
   },
   "source": [
    "### Add columns that list the start and end date, month, day, and hour"
   ]
  },
  {
   "cell_type": "code",
   "execution_count": 11,
   "id": "ee7765e8",
   "metadata": {
    "execution": {
     "iopub.execute_input": "2022-02-06T21:09:26.278340Z",
     "iopub.status.busy": "2022-02-06T21:09:26.276704Z",
     "iopub.status.idle": "2022-02-06T21:10:22.528577Z",
     "shell.execute_reply": "2022-02-06T21:10:22.526776Z"
    },
    "papermill": {
     "duration": 56.503637,
     "end_time": "2022-02-06T21:10:22.529136",
     "exception": false,
     "start_time": "2022-02-06T21:09:26.025499",
     "status": "completed"
    },
    "tags": []
   },
   "outputs": [],
   "source": [
    "combined_trips_v1$started_hour <- lubridate:: hour(combined_trips_v1$started_at)\n",
    "combined_trips_v1$ended_hour <- lubridate:: hour(combined_trips_v1$ended_at)\n",
    "combined_trips_v1$started_date <- as.Date(combined_trips_v1$started_at)\n",
    "combined_trips_v1$ended_date <- as.Date(combined_trips_v1$ended_at)\n",
    "combined_trips_v1$month <- format(as.Date(combined_trips_v1$started_date), \"%b\")\n",
    "combined_trips_v1$day <- format(as.Date(combined_trips_v1$started_date), \"%d\")\n",
    "combined_trips_v1$day_of_week <- format(as.Date(combined_trips_v1$started_date), \"%A\")"
   ]
  },
  {
   "cell_type": "markdown",
   "id": "741596dc",
   "metadata": {
    "papermill": {
     "duration": 0.243689,
     "end_time": "2022-02-06T21:10:23.020484",
     "exception": false,
     "start_time": "2022-02-06T21:10:22.776795",
     "status": "completed"
    },
    "tags": []
   },
   "source": [
    "### Add column to calculate the ride duration\n"
   ]
  },
  {
   "cell_type": "code",
   "execution_count": 12,
   "id": "f0b3128a",
   "metadata": {
    "execution": {
     "iopub.execute_input": "2022-02-06T21:10:23.515645Z",
     "iopub.status.busy": "2022-02-06T21:10:23.513588Z",
     "iopub.status.idle": "2022-02-06T21:10:56.578038Z",
     "shell.execute_reply": "2022-02-06T21:10:56.576296Z"
    },
    "papermill": {
     "duration": 33.314303,
     "end_time": "2022-02-06T21:10:56.578256",
     "exception": false,
     "start_time": "2022-02-06T21:10:23.263953",
     "status": "completed"
    },
    "tags": []
   },
   "outputs": [],
   "source": [
    "combined_trips_v1$ride_len <- difftime(combined_trips_v1$ended_at, combined_trips_v1$started_at)"
   ]
  },
  {
   "cell_type": "markdown",
   "id": "476a78be",
   "metadata": {
    "papermill": {
     "duration": 0.244051,
     "end_time": "2022-02-06T21:10:57.067532",
     "exception": false,
     "start_time": "2022-02-06T21:10:56.823481",
     "status": "completed"
    },
    "tags": []
   },
   "source": [
    "### Inspect the structure of the columns"
   ]
  },
  {
   "cell_type": "code",
   "execution_count": 13,
   "id": "7c77cb2c",
   "metadata": {
    "execution": {
     "iopub.execute_input": "2022-02-06T21:10:57.563994Z",
     "iopub.status.busy": "2022-02-06T21:10:57.561958Z",
     "iopub.status.idle": "2022-02-06T21:10:57.626897Z",
     "shell.execute_reply": "2022-02-06T21:10:57.625197Z"
    },
    "papermill": {
     "duration": 0.314187,
     "end_time": "2022-02-06T21:10:57.627084",
     "exception": false,
     "start_time": "2022-02-06T21:10:57.312897",
     "status": "completed"
    },
    "tags": []
   },
   "outputs": [
    {
     "name": "stdout",
     "output_type": "stream",
     "text": [
      "'data.frame':\t5390984 obs. of  15 variables:\n",
      " $ ride_id         : chr  \"E19E6F1B8D4C42ED\" \"DC88F20C2C55F27F\" \"EC45C94683FE3F27\" \"4FA453A75AE377DB\" ...\n",
      " $ rideable_type   : chr  \"electric_bike\" \"electric_bike\" \"electric_bike\" \"electric_bike\" ...\n",
      " $ started_at      : chr  \"2021-01-23 16:14:19\" \"2021-01-27 18:43:08\" \"2021-01-21 22:35:54\" \"2021-01-07 13:31:13\" ...\n",
      " $ ended_at        : chr  \"2021-01-23 16:24:44\" \"2021-01-27 18:47:12\" \"2021-01-21 22:37:14\" \"2021-01-07 13:42:55\" ...\n",
      " $ start_station_id: chr  \"17660\" \"17660\" \"17660\" \"17660\" ...\n",
      " $ end_station_id  : chr  \"\" \"\" \"\" \"\" ...\n",
      " $ member_casual   : chr  \"member\" \"member\" \"member\" \"member\" ...\n",
      " $ started_hour    : int  16 18 22 13 2 14 5 15 9 19 ...\n",
      " $ ended_hour      : int  16 18 22 13 2 15 5 15 10 19 ...\n",
      " $ started_date    : Date, format: \"2021-01-23\" \"2021-01-27\" ...\n",
      " $ ended_date      : Date, format: \"2021-01-23\" \"2021-01-27\" ...\n",
      " $ month           : chr  \"Jan\" \"Jan\" \"Jan\" \"Jan\" ...\n",
      " $ day             : chr  \"23\" \"27\" \"21\" \"07\" ...\n",
      " $ day_of_week     : chr  \"Saturday\" \"Wednesday\" \"Thursday\" \"Thursday\" ...\n",
      " $ ride_len        : 'difftime' num  625 244 80 702 ...\n",
      "  ..- attr(*, \"units\")= chr \"secs\"\n"
     ]
    },
    {
     "data": {
      "text/html": [
       "<table class=\"dataframe\">\n",
       "<caption>A data.frame: 6 × 15</caption>\n",
       "<thead>\n",
       "\t<tr><th></th><th scope=col>ride_id</th><th scope=col>rideable_type</th><th scope=col>started_at</th><th scope=col>ended_at</th><th scope=col>start_station_id</th><th scope=col>end_station_id</th><th scope=col>member_casual</th><th scope=col>started_hour</th><th scope=col>ended_hour</th><th scope=col>started_date</th><th scope=col>ended_date</th><th scope=col>month</th><th scope=col>day</th><th scope=col>day_of_week</th><th scope=col>ride_len</th></tr>\n",
       "\t<tr><th></th><th scope=col>&lt;chr&gt;</th><th scope=col>&lt;chr&gt;</th><th scope=col>&lt;chr&gt;</th><th scope=col>&lt;chr&gt;</th><th scope=col>&lt;chr&gt;</th><th scope=col>&lt;chr&gt;</th><th scope=col>&lt;chr&gt;</th><th scope=col>&lt;int&gt;</th><th scope=col>&lt;int&gt;</th><th scope=col>&lt;date&gt;</th><th scope=col>&lt;date&gt;</th><th scope=col>&lt;chr&gt;</th><th scope=col>&lt;chr&gt;</th><th scope=col>&lt;chr&gt;</th><th scope=col>&lt;drtn&gt;</th></tr>\n",
       "</thead>\n",
       "<tbody>\n",
       "\t<tr><th scope=row>1</th><td>E19E6F1B8D4C42ED</td><td>electric_bike</td><td>2021-01-23 16:14:19</td><td>2021-01-23 16:24:44</td><td>17660</td><td></td><td>member</td><td>16</td><td>16</td><td>2021-01-23</td><td>2021-01-23</td><td>Jan</td><td>23</td><td>Saturday </td><td> 625 secs</td></tr>\n",
       "\t<tr><th scope=row>2</th><td>DC88F20C2C55F27F</td><td>electric_bike</td><td>2021-01-27 18:43:08</td><td>2021-01-27 18:47:12</td><td>17660</td><td></td><td>member</td><td>18</td><td>18</td><td>2021-01-27</td><td>2021-01-27</td><td>Jan</td><td>27</td><td>Wednesday</td><td> 244 secs</td></tr>\n",
       "\t<tr><th scope=row>3</th><td>EC45C94683FE3F27</td><td>electric_bike</td><td>2021-01-21 22:35:54</td><td>2021-01-21 22:37:14</td><td>17660</td><td></td><td>member</td><td>22</td><td>22</td><td>2021-01-21</td><td>2021-01-21</td><td>Jan</td><td>21</td><td>Thursday </td><td>  80 secs</td></tr>\n",
       "\t<tr><th scope=row>4</th><td>4FA453A75AE377DB</td><td>electric_bike</td><td>2021-01-07 13:31:13</td><td>2021-01-07 13:42:55</td><td>17660</td><td></td><td>member</td><td>13</td><td>13</td><td>2021-01-07</td><td>2021-01-07</td><td>Jan</td><td>07</td><td>Thursday </td><td> 702 secs</td></tr>\n",
       "\t<tr><th scope=row>5</th><td>BE5E8EB4E7263A0B</td><td>electric_bike</td><td>2021-01-23 02:24:02</td><td>2021-01-23 02:24:45</td><td>17660</td><td></td><td>casual</td><td> 2</td><td> 2</td><td>2021-01-23</td><td>2021-01-23</td><td>Jan</td><td>23</td><td>Saturday </td><td>  43 secs</td></tr>\n",
       "\t<tr><th scope=row>6</th><td>5D8969F88C773979</td><td>electric_bike</td><td>2021-01-09 14:24:07</td><td>2021-01-09 15:17:54</td><td>17660</td><td></td><td>casual</td><td>14</td><td>15</td><td>2021-01-09</td><td>2021-01-09</td><td>Jan</td><td>09</td><td>Saturday </td><td>3227 secs</td></tr>\n",
       "</tbody>\n",
       "</table>\n"
      ],
      "text/latex": [
       "A data.frame: 6 × 15\n",
       "\\begin{tabular}{r|lllllllllllllll}\n",
       "  & ride\\_id & rideable\\_type & started\\_at & ended\\_at & start\\_station\\_id & end\\_station\\_id & member\\_casual & started\\_hour & ended\\_hour & started\\_date & ended\\_date & month & day & day\\_of\\_week & ride\\_len\\\\\n",
       "  & <chr> & <chr> & <chr> & <chr> & <chr> & <chr> & <chr> & <int> & <int> & <date> & <date> & <chr> & <chr> & <chr> & <drtn>\\\\\n",
       "\\hline\n",
       "\t1 & E19E6F1B8D4C42ED & electric\\_bike & 2021-01-23 16:14:19 & 2021-01-23 16:24:44 & 17660 &  & member & 16 & 16 & 2021-01-23 & 2021-01-23 & Jan & 23 & Saturday  &  625 secs\\\\\n",
       "\t2 & DC88F20C2C55F27F & electric\\_bike & 2021-01-27 18:43:08 & 2021-01-27 18:47:12 & 17660 &  & member & 18 & 18 & 2021-01-27 & 2021-01-27 & Jan & 27 & Wednesday &  244 secs\\\\\n",
       "\t3 & EC45C94683FE3F27 & electric\\_bike & 2021-01-21 22:35:54 & 2021-01-21 22:37:14 & 17660 &  & member & 22 & 22 & 2021-01-21 & 2021-01-21 & Jan & 21 & Thursday  &   80 secs\\\\\n",
       "\t4 & 4FA453A75AE377DB & electric\\_bike & 2021-01-07 13:31:13 & 2021-01-07 13:42:55 & 17660 &  & member & 13 & 13 & 2021-01-07 & 2021-01-07 & Jan & 07 & Thursday  &  702 secs\\\\\n",
       "\t5 & BE5E8EB4E7263A0B & electric\\_bike & 2021-01-23 02:24:02 & 2021-01-23 02:24:45 & 17660 &  & casual &  2 &  2 & 2021-01-23 & 2021-01-23 & Jan & 23 & Saturday  &   43 secs\\\\\n",
       "\t6 & 5D8969F88C773979 & electric\\_bike & 2021-01-09 14:24:07 & 2021-01-09 15:17:54 & 17660 &  & casual & 14 & 15 & 2021-01-09 & 2021-01-09 & Jan & 09 & Saturday  & 3227 secs\\\\\n",
       "\\end{tabular}\n"
      ],
      "text/markdown": [
       "\n",
       "A data.frame: 6 × 15\n",
       "\n",
       "| <!--/--> | ride_id &lt;chr&gt; | rideable_type &lt;chr&gt; | started_at &lt;chr&gt; | ended_at &lt;chr&gt; | start_station_id &lt;chr&gt; | end_station_id &lt;chr&gt; | member_casual &lt;chr&gt; | started_hour &lt;int&gt; | ended_hour &lt;int&gt; | started_date &lt;date&gt; | ended_date &lt;date&gt; | month &lt;chr&gt; | day &lt;chr&gt; | day_of_week &lt;chr&gt; | ride_len &lt;drtn&gt; |\n",
       "|---|---|---|---|---|---|---|---|---|---|---|---|---|---|---|---|\n",
       "| 1 | E19E6F1B8D4C42ED | electric_bike | 2021-01-23 16:14:19 | 2021-01-23 16:24:44 | 17660 | <!----> | member | 16 | 16 | 2021-01-23 | 2021-01-23 | Jan | 23 | Saturday  |  625 secs |\n",
       "| 2 | DC88F20C2C55F27F | electric_bike | 2021-01-27 18:43:08 | 2021-01-27 18:47:12 | 17660 | <!----> | member | 18 | 18 | 2021-01-27 | 2021-01-27 | Jan | 27 | Wednesday |  244 secs |\n",
       "| 3 | EC45C94683FE3F27 | electric_bike | 2021-01-21 22:35:54 | 2021-01-21 22:37:14 | 17660 | <!----> | member | 22 | 22 | 2021-01-21 | 2021-01-21 | Jan | 21 | Thursday  |   80 secs |\n",
       "| 4 | 4FA453A75AE377DB | electric_bike | 2021-01-07 13:31:13 | 2021-01-07 13:42:55 | 17660 | <!----> | member | 13 | 13 | 2021-01-07 | 2021-01-07 | Jan | 07 | Thursday  |  702 secs |\n",
       "| 5 | BE5E8EB4E7263A0B | electric_bike | 2021-01-23 02:24:02 | 2021-01-23 02:24:45 | 17660 | <!----> | casual |  2 |  2 | 2021-01-23 | 2021-01-23 | Jan | 23 | Saturday  |   43 secs |\n",
       "| 6 | 5D8969F88C773979 | electric_bike | 2021-01-09 14:24:07 | 2021-01-09 15:17:54 | 17660 | <!----> | casual | 14 | 15 | 2021-01-09 | 2021-01-09 | Jan | 09 | Saturday  | 3227 secs |\n",
       "\n"
      ],
      "text/plain": [
       "  ride_id          rideable_type started_at          ended_at           \n",
       "1 E19E6F1B8D4C42ED electric_bike 2021-01-23 16:14:19 2021-01-23 16:24:44\n",
       "2 DC88F20C2C55F27F electric_bike 2021-01-27 18:43:08 2021-01-27 18:47:12\n",
       "3 EC45C94683FE3F27 electric_bike 2021-01-21 22:35:54 2021-01-21 22:37:14\n",
       "4 4FA453A75AE377DB electric_bike 2021-01-07 13:31:13 2021-01-07 13:42:55\n",
       "5 BE5E8EB4E7263A0B electric_bike 2021-01-23 02:24:02 2021-01-23 02:24:45\n",
       "6 5D8969F88C773979 electric_bike 2021-01-09 14:24:07 2021-01-09 15:17:54\n",
       "  start_station_id end_station_id member_casual started_hour ended_hour\n",
       "1 17660                           member        16           16        \n",
       "2 17660                           member        18           18        \n",
       "3 17660                           member        22           22        \n",
       "4 17660                           member        13           13        \n",
       "5 17660                           casual         2            2        \n",
       "6 17660                           casual        14           15        \n",
       "  started_date ended_date month day day_of_week ride_len \n",
       "1 2021-01-23   2021-01-23 Jan   23  Saturday     625 secs\n",
       "2 2021-01-27   2021-01-27 Jan   27  Wednesday    244 secs\n",
       "3 2021-01-21   2021-01-21 Jan   21  Thursday      80 secs\n",
       "4 2021-01-07   2021-01-07 Jan   07  Thursday     702 secs\n",
       "5 2021-01-23   2021-01-23 Jan   23  Saturday      43 secs\n",
       "6 2021-01-09   2021-01-09 Jan   09  Saturday    3227 secs"
      ]
     },
     "metadata": {},
     "output_type": "display_data"
    }
   ],
   "source": [
    "str(combined_trips_v1)\n",
    "head (combined_trips_v1)"
   ]
  },
  {
   "cell_type": "markdown",
   "id": "9362c67c",
   "metadata": {
    "papermill": {
     "duration": 0.24773,
     "end_time": "2022-02-06T21:10:58.122568",
     "exception": false,
     "start_time": "2022-02-06T21:10:57.874838",
     "status": "completed"
    },
    "tags": []
   },
   "source": [
    "### Check if ride_len is numeric and if not convert it to numeric"
   ]
  },
  {
   "cell_type": "code",
   "execution_count": 14,
   "id": "ddac31e0",
   "metadata": {
    "execution": {
     "iopub.execute_input": "2022-02-06T21:10:58.627723Z",
     "iopub.status.busy": "2022-02-06T21:10:58.625706Z",
     "iopub.status.idle": "2022-02-06T21:11:05.751719Z",
     "shell.execute_reply": "2022-02-06T21:11:05.749869Z"
    },
    "papermill": {
     "duration": 7.380869,
     "end_time": "2022-02-06T21:11:05.751927",
     "exception": false,
     "start_time": "2022-02-06T21:10:58.371058",
     "status": "completed"
    },
    "tags": []
   },
   "outputs": [
    {
     "data": {
      "text/html": [
       "FALSE"
      ],
      "text/latex": [
       "FALSE"
      ],
      "text/markdown": [
       "FALSE"
      ],
      "text/plain": [
       "[1] FALSE"
      ]
     },
     "metadata": {},
     "output_type": "display_data"
    },
    {
     "data": {
      "text/html": [
       "TRUE"
      ],
      "text/latex": [
       "TRUE"
      ],
      "text/markdown": [
       "TRUE"
      ],
      "text/plain": [
       "[1] TRUE"
      ]
     },
     "metadata": {},
     "output_type": "display_data"
    }
   ],
   "source": [
    "is.factor(combined_trips_v1$ride_len)\n",
    "combined_trips_v1$ride_len <- as.numeric(as.character(combined_trips_v1$ride_len))\n",
    "is.numeric(combined_trips_v1$ride_len)"
   ]
  },
  {
   "cell_type": "markdown",
   "id": "4994df5b",
   "metadata": {
    "papermill": {
     "duration": 0.251885,
     "end_time": "2022-02-06T21:11:06.254995",
     "exception": false,
     "start_time": "2022-02-06T21:11:06.003110",
     "status": "completed"
    },
    "tags": []
   },
   "source": [
    "### Remove the bad data and creat a new version of the data"
   ]
  },
  {
   "cell_type": "code",
   "execution_count": 15,
   "id": "d0efb8f4",
   "metadata": {
    "execution": {
     "iopub.execute_input": "2022-02-06T21:11:06.769687Z",
     "iopub.status.busy": "2022-02-06T21:11:06.767757Z",
     "iopub.status.idle": "2022-02-06T21:11:11.304720Z",
     "shell.execute_reply": "2022-02-06T21:11:11.302659Z"
    },
    "papermill": {
     "duration": 4.797122,
     "end_time": "2022-02-06T21:11:11.304872",
     "exception": false,
     "start_time": "2022-02-06T21:11:06.507750",
     "status": "completed"
    },
    "tags": []
   },
   "outputs": [],
   "source": [
    "combined_trips_v2 <- combined_trips_v1[!(combined_trips_v1$ride_len <= 0 | combined_trips_v1$member_casual == \"\"),]"
   ]
  },
  {
   "cell_type": "markdown",
   "id": "f801954a",
   "metadata": {
    "papermill": {
     "duration": 0.255317,
     "end_time": "2022-02-06T21:11:11.814001",
     "exception": false,
     "start_time": "2022-02-06T21:11:11.558684",
     "status": "completed"
    },
    "tags": []
   },
   "source": [
    "### Inspect the new version of data"
   ]
  },
  {
   "cell_type": "code",
   "execution_count": 16,
   "id": "38d74d88",
   "metadata": {
    "execution": {
     "iopub.execute_input": "2022-02-06T21:11:12.327807Z",
     "iopub.status.busy": "2022-02-06T21:11:12.326303Z",
     "iopub.status.idle": "2022-02-06T21:11:12.362780Z",
     "shell.execute_reply": "2022-02-06T21:11:12.361664Z"
    },
    "papermill": {
     "duration": 0.293179,
     "end_time": "2022-02-06T21:11:12.362988",
     "exception": false,
     "start_time": "2022-02-06T21:11:12.069809",
     "status": "completed"
    },
    "tags": []
   },
   "outputs": [
    {
     "name": "stdout",
     "output_type": "stream",
     "text": [
      "'data.frame':\t5390342 obs. of  15 variables:\n",
      " $ ride_id         : chr  \"E19E6F1B8D4C42ED\" \"DC88F20C2C55F27F\" \"EC45C94683FE3F27\" \"4FA453A75AE377DB\" ...\n",
      " $ rideable_type   : chr  \"electric_bike\" \"electric_bike\" \"electric_bike\" \"electric_bike\" ...\n",
      " $ started_at      : chr  \"2021-01-23 16:14:19\" \"2021-01-27 18:43:08\" \"2021-01-21 22:35:54\" \"2021-01-07 13:31:13\" ...\n",
      " $ ended_at        : chr  \"2021-01-23 16:24:44\" \"2021-01-27 18:47:12\" \"2021-01-21 22:37:14\" \"2021-01-07 13:42:55\" ...\n",
      " $ start_station_id: chr  \"17660\" \"17660\" \"17660\" \"17660\" ...\n",
      " $ end_station_id  : chr  \"\" \"\" \"\" \"\" ...\n",
      " $ member_casual   : chr  \"member\" \"member\" \"member\" \"member\" ...\n",
      " $ started_hour    : int  16 18 22 13 2 14 5 15 9 19 ...\n",
      " $ ended_hour      : int  16 18 22 13 2 15 5 15 10 19 ...\n",
      " $ started_date    : Date, format: \"2021-01-23\" \"2021-01-27\" ...\n",
      " $ ended_date      : Date, format: \"2021-01-23\" \"2021-01-27\" ...\n",
      " $ month           : chr  \"Jan\" \"Jan\" \"Jan\" \"Jan\" ...\n",
      " $ day             : chr  \"23\" \"27\" \"21\" \"07\" ...\n",
      " $ day_of_week     : chr  \"Saturday\" \"Wednesday\" \"Thursday\" \"Thursday\" ...\n",
      " $ ride_len        : num  625 244 80 702 43 ...\n"
     ]
    }
   ],
   "source": [
    "str(combined_trips_v2)"
   ]
  },
  {
   "cell_type": "markdown",
   "id": "358724d4",
   "metadata": {
    "papermill": {
     "duration": 0.256331,
     "end_time": "2022-02-06T21:11:12.874464",
     "exception": false,
     "start_time": "2022-02-06T21:11:12.618133",
     "status": "completed"
    },
    "tags": []
   },
   "source": [
    "### Save the result as .CSV"
   ]
  },
  {
   "cell_type": "code",
   "execution_count": 17,
   "id": "3ad00945",
   "metadata": {
    "execution": {
     "iopub.execute_input": "2022-02-06T21:11:13.387441Z",
     "iopub.status.busy": "2022-02-06T21:11:13.385880Z",
     "iopub.status.idle": "2022-02-06T21:13:01.605255Z",
     "shell.execute_reply": "2022-02-06T21:13:01.603873Z"
    },
    "papermill": {
     "duration": 108.477648,
     "end_time": "2022-02-06T21:13:01.605656",
     "exception": false,
     "start_time": "2022-02-06T21:11:13.128008",
     "status": "completed"
    },
    "tags": []
   },
   "outputs": [],
   "source": [
    "write.csv(combined_trips_v2, file = \"/kaggle/working/combined_trips_v2.csv\")"
   ]
  },
  {
   "cell_type": "markdown",
   "id": "32eeb1af",
   "metadata": {
    "papermill": {
     "duration": 0.82703,
     "end_time": "2022-02-06T21:13:02.691648",
     "exception": false,
     "start_time": "2022-02-06T21:13:01.864618",
     "status": "completed"
    },
    "tags": []
   },
   "source": [
    "## **Guiding Questions**\n",
    "\n",
    "* <font size = \"3\">**What tools are you choosing and why?** <br /> The tool used in this project is RStudio as the dataset is large to be done using Excel sheets and to practice using RStudio and R Markdown. <br /> <br />\n",
    "* **Have you ensured your data’s integrity?** <br /> Yes, the integrity of the data is one of the checkpoints I did with RStudio. <br /> <br />\n",
    "* **What steps have you taken to ensure that your data is clean?** <br /> First, confirm the structure of the columns, and the consistency of the columns. Second, remove the ride duration less or equal to zero. Third, remove any data duplication. <br /> <br />\n",
    "* **How can you verify that your data is clean and ready to analyze?** <br /> The clean data can be verified by RStudio as shown previously in the notebook. <br /> <br />\n",
    "* **How did you verify the data’s integrity?** <br /> The datasets have consistent data and type for all columns. <br /> <br />\n",
    "* **Have you documented your cleaning process so you can review and share those results?** <br /> Yes, it is documented in the R Markdown and in this notebook.\n",
    "\n",
    "## **Key Tasks**\n",
    "\n",
    "* [x] Check the data for errors.\n",
    "* [x] Choose your tools.\n",
    "* [x] Transform the data so you can work with it effectively.\n",
    "* [x] Document the cleaning process.\n",
    "\n",
    "## **Deliverable**\n",
    "\n",
    "* [x] **Documentation of any cleaning or manipulation of data** <br /> R Markdown and this notebook documenting any cleaning or manipulation of the data.</font>"
   ]
  },
  {
   "cell_type": "markdown",
   "id": "c751fc39",
   "metadata": {
    "papermill": {
     "duration": 0.252205,
     "end_time": "2022-02-06T21:13:03.199633",
     "exception": false,
     "start_time": "2022-02-06T21:13:02.947428",
     "status": "completed"
    },
    "tags": []
   },
   "source": [
    "# **Analyze** Roadmap\n",
    "\n",
    "<font size =\"3\"> Now that the data is stored appropriately and has been prepared for analysis, it is time to build a profile for both casual and member riders to know the differences between them. \n",
    "\n",
    "## Use RStudio Code\n",
    "\n",
    "### Generate a summary for the dataset"
   ]
  },
  {
   "cell_type": "code",
   "execution_count": 18,
   "id": "2a1f4633",
   "metadata": {
    "execution": {
     "iopub.execute_input": "2022-02-06T21:13:03.760799Z",
     "iopub.status.busy": "2022-02-06T21:13:03.759333Z",
     "iopub.status.idle": "2022-02-06T21:13:04.975692Z",
     "shell.execute_reply": "2022-02-06T21:13:04.974362Z"
    },
    "papermill": {
     "duration": 1.47281,
     "end_time": "2022-02-06T21:13:04.975825",
     "exception": false,
     "start_time": "2022-02-06T21:13:03.503015",
     "status": "completed"
    },
    "tags": []
   },
   "outputs": [
    {
     "data": {
      "text/plain": [
       "   ride_id          rideable_type       started_at          ended_at        \n",
       " Length:5390342     Length:5390342     Length:5390342     Length:5390342    \n",
       " Class :character   Class :character   Class :character   Class :character  \n",
       " Mode  :character   Mode  :character   Mode  :character   Mode  :character  \n",
       "                                                                            \n",
       "                                                                            \n",
       "                                                                            \n",
       " start_station_id   end_station_id     member_casual       started_hour  \n",
       " Length:5390342     Length:5390342     Length:5390342     Min.   : 0.00  \n",
       " Class :character   Class :character   Class :character   1st Qu.:11.00  \n",
       " Mode  :character   Mode  :character   Mode  :character   Median :15.00  \n",
       "                                                          Mean   :14.24  \n",
       "                                                          3rd Qu.:18.00  \n",
       "                                                          Max.   :23.00  \n",
       "   ended_hour     started_date          ended_date            month          \n",
       " Min.   : 0.00   Min.   :2021-01-01   Min.   :2021-01-01   Length:5390342    \n",
       " 1st Qu.:11.00   1st Qu.:2021-06-12   1st Qu.:2021-06-12   Class :character  \n",
       " Median :15.00   Median :2021-08-05   Median :2021-08-05   Mode  :character  \n",
       " Mean   :14.39   Mean   :2021-07-31   Mean   :2021-07-31                     \n",
       " 3rd Qu.:18.00   3rd Qu.:2021-09-26   3rd Qu.:2021-09-26                     \n",
       " Max.   :23.00   Max.   :2021-12-31   Max.   :2022-01-03                     \n",
       "     day            day_of_week           ride_len      \n",
       " Length:5390342     Length:5390342     Min.   :      1  \n",
       " Class :character   Class :character   1st Qu.:    403  \n",
       " Mode  :character   Mode  :character   Median :    716  \n",
       "                                       Mean   :   1309  \n",
       "                                       3rd Qu.:   1298  \n",
       "                                       Max.   :3356649  "
      ]
     },
     "metadata": {},
     "output_type": "display_data"
    }
   ],
   "source": [
    "summary(combined_trips_v2)"
   ]
  },
  {
   "cell_type": "markdown",
   "id": "0bca77e3",
   "metadata": {
    "papermill": {
     "duration": 0.258252,
     "end_time": "2022-02-06T21:13:05.489103",
     "exception": false,
     "start_time": "2022-02-06T21:13:05.230851",
     "status": "completed"
    },
    "tags": []
   },
   "source": [
    "### Descriptive analysis on ride length column\n",
    "\n",
    "After running a full summary of the dataset, a more descriptive analysis is needed on the ride length column. For this we can use the following code lines:"
   ]
  },
  {
   "cell_type": "code",
   "execution_count": 19,
   "id": "3710588c",
   "metadata": {
    "execution": {
     "iopub.execute_input": "2022-02-06T21:13:06.008330Z",
     "iopub.status.busy": "2022-02-06T21:13:06.006699Z",
     "iopub.status.idle": "2022-02-06T21:13:06.281373Z",
     "shell.execute_reply": "2022-02-06T21:13:06.279750Z"
    },
    "papermill": {
     "duration": 0.535497,
     "end_time": "2022-02-06T21:13:06.281507",
     "exception": false,
     "start_time": "2022-02-06T21:13:05.746010",
     "status": "completed"
    },
    "tags": []
   },
   "outputs": [
    {
     "data": {
      "text/html": [
       "1309.07734499964"
      ],
      "text/latex": [
       "1309.07734499964"
      ],
      "text/markdown": [
       "1309.07734499964"
      ],
      "text/plain": [
       "[1] 1309.077"
      ]
     },
     "metadata": {},
     "output_type": "display_data"
    },
    {
     "data": {
      "text/html": [
       "716"
      ],
      "text/latex": [
       "716"
      ],
      "text/markdown": [
       "716"
      ],
      "text/plain": [
       "[1] 716"
      ]
     },
     "metadata": {},
     "output_type": "display_data"
    },
    {
     "data": {
      "text/html": [
       "3356649"
      ],
      "text/latex": [
       "3356649"
      ],
      "text/markdown": [
       "3356649"
      ],
      "text/plain": [
       "[1] 3356649"
      ]
     },
     "metadata": {},
     "output_type": "display_data"
    },
    {
     "data": {
      "text/html": [
       "1"
      ],
      "text/latex": [
       "1"
      ],
      "text/markdown": [
       "1"
      ],
      "text/plain": [
       "[1] 1"
      ]
     },
     "metadata": {},
     "output_type": "display_data"
    }
   ],
   "source": [
    "mean(combined_trips_v2$ride_len)\n",
    "median(combined_trips_v2$ride_len)\n",
    "max(combined_trips_v2$ride_len)\n",
    "min(combined_trips_v2$ride_len)"
   ]
  },
  {
   "cell_type": "markdown",
   "id": "f6485d05",
   "metadata": {
    "papermill": {
     "duration": 0.267501,
     "end_time": "2022-02-06T21:13:06.818053",
     "exception": false,
     "start_time": "2022-02-06T21:13:06.550552",
     "status": "completed"
    },
    "tags": []
   },
   "source": [
    "or we can use the summary function in one code line:"
   ]
  },
  {
   "cell_type": "code",
   "execution_count": 20,
   "id": "675f86c1",
   "metadata": {
    "execution": {
     "iopub.execute_input": "2022-02-06T21:13:07.356394Z",
     "iopub.status.busy": "2022-02-06T21:13:07.354298Z",
     "iopub.status.idle": "2022-02-06T21:13:07.724193Z",
     "shell.execute_reply": "2022-02-06T21:13:07.722640Z"
    },
    "papermill": {
     "duration": 0.639718,
     "end_time": "2022-02-06T21:13:07.724341",
     "exception": false,
     "start_time": "2022-02-06T21:13:07.084623",
     "status": "completed"
    },
    "tags": []
   },
   "outputs": [
    {
     "data": {
      "text/plain": [
       "   Min. 1st Qu.  Median    Mean 3rd Qu.    Max. \n",
       "      1     403     716    1309    1298 3356649 "
      ]
     },
     "metadata": {},
     "output_type": "display_data"
    }
   ],
   "source": [
    "summary(combined_trips_v2$ride_len)"
   ]
  },
  {
   "cell_type": "markdown",
   "id": "431b5862",
   "metadata": {
    "papermill": {
     "duration": 0.271664,
     "end_time": "2022-02-06T21:13:08.262820",
     "exception": false,
     "start_time": "2022-02-06T21:13:07.991156",
     "status": "completed"
    },
    "tags": []
   },
   "source": [
    "### Compare and plot member and casual average ride duration"
   ]
  },
  {
   "cell_type": "code",
   "execution_count": 21,
   "id": "9dad924c",
   "metadata": {
    "execution": {
     "iopub.execute_input": "2022-02-06T21:13:08.807981Z",
     "iopub.status.busy": "2022-02-06T21:13:08.806317Z",
     "iopub.status.idle": "2022-02-06T21:13:09.010406Z",
     "shell.execute_reply": "2022-02-06T21:13:09.008810Z"
    },
    "papermill": {
     "duration": 0.478684,
     "end_time": "2022-02-06T21:13:09.010544",
     "exception": false,
     "start_time": "2022-02-06T21:13:08.531860",
     "status": "completed"
    },
    "tags": []
   },
   "outputs": [
    {
     "name": "stdout",
     "output_type": "stream",
     "text": [
      "\u001b[90m# A tibble: 2 × 3\u001b[39m\n",
      "  member_casual average_duration   count\n",
      "  \u001b[3m\u001b[90m<chr>\u001b[39m\u001b[23m                    \u001b[3m\u001b[90m<dbl>\u001b[39m\u001b[23m   \u001b[3m\u001b[90m<int>\u001b[39m\u001b[23m\n",
      "\u001b[90m1\u001b[39m casual                    31.9 2\u001b[4m4\u001b[24m\u001b[4m2\u001b[24m\u001b[4m6\u001b[24m202\n",
      "\u001b[90m2\u001b[39m member                    13.6 2\u001b[4m9\u001b[24m\u001b[4m6\u001b[24m\u001b[4m4\u001b[24m140\n"
     ]
    }
   ],
   "source": [
    "average_duration_table <- combined_trips_v2 %>% \n",
    "  group_by(member_casual) %>% \n",
    "  summarise(average_duration = mean(ride_len)/60, count = length(ride_len))\n",
    "print(average_duration_table)"
   ]
  },
  {
   "cell_type": "code",
   "execution_count": 22,
   "id": "77d80362",
   "metadata": {
    "_kg_hide-input": true,
    "execution": {
     "iopub.execute_input": "2022-02-06T21:13:09.556152Z",
     "iopub.status.busy": "2022-02-06T21:13:09.554459Z",
     "iopub.status.idle": "2022-02-06T21:13:09.567753Z",
     "shell.execute_reply": "2022-02-06T21:13:09.566309Z"
    },
    "papermill": {
     "duration": 0.288276,
     "end_time": "2022-02-06T21:13:09.567885",
     "exception": false,
     "start_time": "2022-02-06T21:13:09.279609",
     "status": "completed"
    },
    "tags": []
   },
   "outputs": [],
   "source": [
    "setwd(\"/kaggle/working/\")"
   ]
  },
  {
   "cell_type": "code",
   "execution_count": 23,
   "id": "be027ccd",
   "metadata": {
    "execution": {
     "iopub.execute_input": "2022-02-06T21:13:10.112051Z",
     "iopub.status.busy": "2022-02-06T21:13:10.109972Z",
     "iopub.status.idle": "2022-02-06T21:13:10.725742Z",
     "shell.execute_reply": "2022-02-06T21:13:10.725114Z"
    },
    "papermill": {
     "duration": 0.88941,
     "end_time": "2022-02-06T21:13:10.725874",
     "exception": false,
     "start_time": "2022-02-06T21:13:09.836464",
     "status": "completed"
    },
    "tags": []
   },
   "outputs": [
    {
     "name": "stderr",
     "output_type": "stream",
     "text": [
      "Warning message:\n",
      "“Use of `average_duration_table$average_duration` is discouraged. Use `average_duration` instead.”\n",
      "Warning message:\n",
      "“Use of `average_duration_table$average_duration` is discouraged. Use `average_duration` instead.”\n",
      "Warning message:\n",
      "“Use of `average_duration_table$member_casual` is discouraged. Use `member_casual` instead.”\n"
     ]
    },
    {
     "data": {
      "image/png": "[encoded data removed]"
     },
     "metadata": {
      "image/png": {
       "height": 420,
       "width": 900
      }
     },
     "output_type": "display_data"
    }
   ],
   "source": [
    "options(repr.plot.width = 15, repr.plot.height = 7)\n",
    "ggplot(average_duration_table, aes(x= average_duration_table$average_duration, y = average_duration_table$average_duration, fill = average_duration_table$member_casual)) +\n",
    "  geom_col() +\n",
    "  scale_y_continuous(breaks = scales:: breaks_width(2), labels = comma) + \n",
    "  labs(x= \"Member Vs. Casual\", y = \"Average Duration per Min\", title = \"Cyclistic Member Vs. Casual: Average Duration per Min.\", subtitle = \"Jan 21 - Dec 21\", caption = \"Data by Cyclistic\") + guides(fill=guide_legend(title=NULL))\n"
   ]
  },
  {
   "cell_type": "markdown",
   "id": "f4347b4d",
   "metadata": {
    "papermill": {
     "duration": 0.279377,
     "end_time": "2022-02-06T21:13:11.279430",
     "exception": false,
     "start_time": "2022-02-06T21:13:11.000053",
     "status": "completed"
    },
    "tags": []
   },
   "source": [
    "### Compare and plot member and casual number of rides"
   ]
  },
  {
   "cell_type": "code",
   "execution_count": 24,
   "id": "33b6a7ca",
   "metadata": {
    "execution": {
     "iopub.execute_input": "2022-02-06T21:13:11.841198Z",
     "iopub.status.busy": "2022-02-06T21:13:11.839591Z",
     "iopub.status.idle": "2022-02-06T21:13:12.027862Z",
     "shell.execute_reply": "2022-02-06T21:13:12.026454Z"
    },
    "papermill": {
     "duration": 0.469777,
     "end_time": "2022-02-06T21:13:12.028074",
     "exception": false,
     "start_time": "2022-02-06T21:13:11.558297",
     "status": "completed"
    },
    "tags": []
   },
   "outputs": [
    {
     "name": "stdout",
     "output_type": "stream",
     "text": [
      "\u001b[90m# A tibble: 2 × 3\u001b[39m\n",
      "  member_casual num_of_rides   `%`\n",
      "  \u001b[3m\u001b[90m<chr>\u001b[39m\u001b[23m                \u001b[3m\u001b[90m<int>\u001b[39m\u001b[23m \u001b[3m\u001b[90m<dbl>\u001b[39m\u001b[23m\n",
      "\u001b[90m1\u001b[39m casual             2\u001b[4m4\u001b[24m\u001b[4m2\u001b[24m\u001b[4m6\u001b[24m202  45.0\n",
      "\u001b[90m2\u001b[39m member             2\u001b[4m9\u001b[24m\u001b[4m6\u001b[24m\u001b[4m4\u001b[24m140  55.0\n"
     ]
    }
   ],
   "source": [
    "num_of_rides_table <- combined_trips_v2 %>% \n",
    "  group_by(member_casual) %>% \n",
    "  summarise(num_of_rides = length(ride_len), \"%\" = (length(ride_len)/nrow(combined_trips_v2))*100 )\n",
    "print(num_of_rides_table)"
   ]
  },
  {
   "cell_type": "code",
   "execution_count": 25,
   "id": "a49feee0",
   "metadata": {
    "execution": {
     "iopub.execute_input": "2022-02-06T21:13:12.598004Z",
     "iopub.status.busy": "2022-02-06T21:13:12.596346Z",
     "iopub.status.idle": "2022-02-06T21:13:12.987847Z",
     "shell.execute_reply": "2022-02-06T21:13:12.987255Z"
    },
    "papermill": {
     "duration": 0.676308,
     "end_time": "2022-02-06T21:13:12.988029",
     "exception": false,
     "start_time": "2022-02-06T21:13:12.311721",
     "status": "completed"
    },
    "tags": []
   },
   "outputs": [
    {
     "name": "stderr",
     "output_type": "stream",
     "text": [
      "Warning message:\n",
      "“Use of `num_of_rides_table$member_casual` is discouraged. Use `member_casual` instead.”\n",
      "Warning message:\n",
      "“Use of `num_of_rides_table$`%`` is discouraged. Use `%` instead.”\n",
      "Warning message:\n",
      "“Use of `num_of_rides_table$member_casual` is discouraged. Use `member_casual` instead.”\n"
     ]
    },
    {
     "data": {
      "image/png": "[encoded data removed]"
     },
     "metadata": {
      "image/png": {
       "height": 420,
       "width": 900
      }
     },
     "output_type": "display_data"
    }
   ],
   "source": [
    "options(repr.plot.width = 15, repr.plot.height = 7)\n",
    "ggplot(num_of_rides_table, aes(x= num_of_rides_table$member_casual, y = num_of_rides_table$`%`, fill = num_of_rides_table$member_casual)) +\n",
    "  geom_col() +\n",
    "  scale_y_continuous(breaks = scales:: breaks_width(5), labels = comma)+\n",
    "  labs(x= \"Member Vs. Casual\", y = \"Number of Rides %\", title = \"Cyclistic Member Vs. Casual: Number of Rides %\", subtitle = \"Jan 21 - Dec 21\", caption = \"Data by Cyclistic\" )+ guides(fill=guide_legend(title=NULL))"
   ]
  },
  {
   "cell_type": "markdown",
   "id": "bd3c83f7",
   "metadata": {
    "papermill": {
     "duration": 0.309236,
     "end_time": "2022-02-06T21:13:13.579269",
     "exception": false,
     "start_time": "2022-02-06T21:13:13.270033",
     "status": "completed"
    },
    "tags": []
   },
   "source": [
    "This bar chart indicates that members use rides 10% more than the casual.\n",
    "\n",
    "### Compare and plot member and casual average ride duration per month\n",
    "\n",
    "First, the arrangement of the month should be fixed."
   ]
  },
  {
   "cell_type": "code",
   "execution_count": 26,
   "id": "6c86b8bb",
   "metadata": {
    "execution": {
     "iopub.execute_input": "2022-02-06T21:13:14.154038Z",
     "iopub.status.busy": "2022-02-06T21:13:14.152432Z",
     "iopub.status.idle": "2022-02-06T21:13:14.233225Z",
     "shell.execute_reply": "2022-02-06T21:13:14.231888Z"
    },
    "papermill": {
     "duration": 0.367842,
     "end_time": "2022-02-06T21:13:14.233364",
     "exception": false,
     "start_time": "2022-02-06T21:13:13.865522",
     "status": "completed"
    },
    "tags": []
   },
   "outputs": [],
   "source": [
    "combined_trips_v2$month <- ordered(combined_trips_v2$month, levels=c(\"Jan\", \"Feb\", \"Mar\", \"Apr\", \"May\", \"Jun\", \"Jul\", \"Aug\", \"Sep\", \"Oct\", \"Nov\", \"Dec\"))"
   ]
  },
  {
   "cell_type": "markdown",
   "id": "217b0b52",
   "metadata": {
    "papermill": {
     "duration": 0.283698,
     "end_time": "2022-02-06T21:13:14.798632",
     "exception": false,
     "start_time": "2022-02-06T21:13:14.514934",
     "status": "completed"
    },
    "tags": []
   },
   "source": [
    "Now, we can summarize the average duration per month."
   ]
  },
  {
   "cell_type": "code",
   "execution_count": 27,
   "id": "005bc9e3",
   "metadata": {
    "execution": {
     "iopub.execute_input": "2022-02-06T21:13:15.371312Z",
     "iopub.status.busy": "2022-02-06T21:13:15.369781Z",
     "iopub.status.idle": "2022-02-06T21:13:15.671383Z",
     "shell.execute_reply": "2022-02-06T21:13:15.669989Z"
    },
    "papermill": {
     "duration": 0.589912,
     "end_time": "2022-02-06T21:13:15.671521",
     "exception": false,
     "start_time": "2022-02-06T21:13:15.081609",
     "status": "completed"
    },
    "tags": []
   },
   "outputs": [
    {
     "name": "stderr",
     "output_type": "stream",
     "text": [
      "`summarise()` has grouped output by 'member_casual'. You can override using the `.groups` argument.\n",
      "\n"
     ]
    },
    {
     "name": "stdout",
     "output_type": "stream",
     "text": [
      "\u001b[90m# A tibble: 24 × 3\u001b[39m\n",
      "\u001b[90m# Groups:   member_casual [2]\u001b[39m\n",
      "   member_casual month average_duration\n",
      "   \u001b[3m\u001b[90m<chr>\u001b[39m\u001b[23m         \u001b[3m\u001b[90m<ord>\u001b[39m\u001b[23m            \u001b[3m\u001b[90m<dbl>\u001b[39m\u001b[23m\n",
      "\u001b[90m 1\u001b[39m casual        Jan               25.7\n",
      "\u001b[90m 2\u001b[39m casual        Feb               49.4\n",
      "\u001b[90m 3\u001b[39m casual        Mar               38.2\n",
      "\u001b[90m 4\u001b[39m casual        Apr               38.0\n",
      "\u001b[90m 5\u001b[39m casual        May               40.0\n",
      "\u001b[90m 6\u001b[39m casual        Jun               37.1\n",
      "\u001b[90m 7\u001b[39m casual        Jul               32.8\n",
      "\u001b[90m 8\u001b[39m casual        Aug               28.8\n",
      "\u001b[90m 9\u001b[39m casual        Sep               27.8\n",
      "\u001b[90m10\u001b[39m casual        Oct               28.7\n",
      "\u001b[90m# … with 14 more rows\u001b[39m\n"
     ]
    }
   ],
   "source": [
    "average_duration_month <- combined_trips_v2 %>% \n",
    "  group_by(member_casual, month) %>% \n",
    "  summarise(average_duration = mean(ride_len)/60, )\n",
    "print(average_duration_month)"
   ]
  },
  {
   "cell_type": "code",
   "execution_count": 28,
   "id": "ed65a978",
   "metadata": {
    "execution": {
     "iopub.execute_input": "2022-02-06T21:13:16.244251Z",
     "iopub.status.busy": "2022-02-06T21:13:16.242613Z",
     "iopub.status.idle": "2022-02-06T21:13:16.571378Z",
     "shell.execute_reply": "2022-02-06T21:13:16.570782Z"
    },
    "papermill": {
     "duration": 0.61623,
     "end_time": "2022-02-06T21:13:16.571506",
     "exception": false,
     "start_time": "2022-02-06T21:13:15.955276",
     "status": "completed"
    },
    "tags": []
   },
   "outputs": [
    {
     "data": {
      "image/png": "[encoded data removed]"
     },
     "metadata": {
      "image/png": {
       "height": 420,
       "width": 900
      }
     },
     "output_type": "display_data"
    }
   ],
   "source": [
    "options(repr.plot.width = 15, repr.plot.height = 7)\n",
    "ggplot(average_duration_month, aes(x = average_duration_month$month, y = average_duration_month$average_duration, fill = average_duration_month$member_casual))+\n",
    "  geom_col(position = \"dodge\")+\n",
    "  scale_y_continuous(breaks = scales:: breaks_width(10), labels = comma)+\n",
    "  labs(y = \"Average Duration per Min\", title = \"Cyclistic Member Vs. Casual: Average Duration per Month\", subtitle = \"Jan 21 - Dec 21\", caption = \"Data by Cyclistic\" ) + guides(fill=guide_legend(title=NULL))"
   ]
  },
  {
   "cell_type": "markdown",
   "id": "e8417850",
   "metadata": {
    "papermill": {
     "duration": 0.289685,
     "end_time": "2022-02-06T21:13:17.152836",
     "exception": false,
     "start_time": "2022-02-06T21:13:16.863151",
     "status": "completed"
    },
    "tags": []
   },
   "source": [
    "This chart shows many features that can help differentiate between the member and casual riders:\n",
    "\n",
    "* It is clear that the peak for both member and casual riders is in the summer season (JUN-AUG).\n",
    "* The huge difference between winter and summer seasons indicates that the weather affects member and casual riders.\n",
    "* Chicago is a popular tourist destination and its high season is in summer; however, tourists sometimes go in the spring break (mid-March to mid-April) and in the Christmas holiday (mid-November to mid-December).\n",
    "* This touristic season may be the reason behind the high numbers of rides for casual rides from March to Dec.\n",
    "\n",
    "### Compare and plot member and casual average ride duration per weekday\n",
    "\n",
    "First, the arrangement of the weekday should be fixed."
   ]
  },
  {
   "cell_type": "code",
   "execution_count": 29,
   "id": "3ac69cdc",
   "metadata": {
    "execution": {
     "iopub.execute_input": "2022-02-06T21:13:17.739047Z",
     "iopub.status.busy": "2022-02-06T21:13:17.737494Z",
     "iopub.status.idle": "2022-02-06T21:13:17.895644Z",
     "shell.execute_reply": "2022-02-06T21:13:17.894413Z"
    },
    "papermill": {
     "duration": 0.452972,
     "end_time": "2022-02-06T21:13:17.895783",
     "exception": false,
     "start_time": "2022-02-06T21:13:17.442811",
     "status": "completed"
    },
    "tags": []
   },
   "outputs": [],
   "source": [
    "combined_trips_v2$day_of_week <- ordered(combined_trips_v2$day_of_week, levels=c(\"Sunday\", \"Monday\", \"Tuesday\", \"Wednesday\", \"Thursday\", \"Friday\", \"Saturday\"))"
   ]
  },
  {
   "cell_type": "markdown",
   "id": "454b1808",
   "metadata": {
    "papermill": {
     "duration": 0.288271,
     "end_time": "2022-02-06T21:13:18.472388",
     "exception": false,
     "start_time": "2022-02-06T21:13:18.184117",
     "status": "completed"
    },
    "tags": []
   },
   "source": [
    "Now, we can summarize the average duration per weekday."
   ]
  },
  {
   "cell_type": "code",
   "execution_count": 30,
   "id": "2a859ffd",
   "metadata": {
    "execution": {
     "iopub.execute_input": "2022-02-06T21:13:19.053989Z",
     "iopub.status.busy": "2022-02-06T21:13:19.052221Z",
     "iopub.status.idle": "2022-02-06T21:13:19.447397Z",
     "shell.execute_reply": "2022-02-06T21:13:19.446469Z"
    },
    "papermill": {
     "duration": 0.689808,
     "end_time": "2022-02-06T21:13:19.447537",
     "exception": false,
     "start_time": "2022-02-06T21:13:18.757729",
     "status": "completed"
    },
    "tags": []
   },
   "outputs": [
    {
     "name": "stderr",
     "output_type": "stream",
     "text": [
      "`summarise()` has grouped output by 'member_casual'. You can override using the `.groups` argument.\n",
      "\n"
     ]
    },
    {
     "name": "stdout",
     "output_type": "stream",
     "text": [
      "\u001b[90m# A tibble: 14 × 3\u001b[39m\n",
      "\u001b[90m# Groups:   member_casual [2]\u001b[39m\n",
      "   member_casual day_of_week average_duration\n",
      "   \u001b[3m\u001b[90m<chr>\u001b[39m\u001b[23m         \u001b[3m\u001b[90m<ord>\u001b[39m\u001b[23m                  \u001b[3m\u001b[90m<dbl>\u001b[39m\u001b[23m\n",
      "\u001b[90m 1\u001b[39m casual        Sunday                  37.4\n",
      "\u001b[90m 2\u001b[39m casual        Monday                  31.7\n",
      "\u001b[90m 3\u001b[39m casual        Tuesday                 27.9\n",
      "\u001b[90m 4\u001b[39m casual        Wednesday               27.6\n",
      "\u001b[90m 5\u001b[39m casual        Thursday                27.6\n",
      "\u001b[90m 6\u001b[39m casual        Friday                  30.2\n",
      "\u001b[90m 7\u001b[39m casual        Saturday                34.6\n",
      "\u001b[90m 8\u001b[39m member        Sunday                  15.6\n",
      "\u001b[90m 9\u001b[39m member        Monday                  13.2\n",
      "\u001b[90m10\u001b[39m member        Tuesday                 12.8\n",
      "\u001b[90m11\u001b[39m member        Wednesday               12.8\n",
      "\u001b[90m12\u001b[39m member        Thursday                12.8\n",
      "\u001b[90m13\u001b[39m member        Friday                  13.3\n",
      "\u001b[90m14\u001b[39m member        Saturday                15.2\n"
     ]
    }
   ],
   "source": [
    "average_duration_weekday <- combined_trips_v2 %>% \n",
    "  group_by(member_casual, day_of_week) %>% \n",
    "  summarise(average_duration = mean(ride_len)/60, )\n",
    "print(average_duration_weekday)"
   ]
  },
  {
   "cell_type": "code",
   "execution_count": 31,
   "id": "4b39e88e",
   "metadata": {
    "execution": {
     "iopub.execute_input": "2022-02-06T21:13:20.077401Z",
     "iopub.status.busy": "2022-02-06T21:13:20.074299Z",
     "iopub.status.idle": "2022-02-06T21:13:20.452790Z",
     "shell.execute_reply": "2022-02-06T21:13:20.452130Z"
    },
    "papermill": {
     "duration": 0.715561,
     "end_time": "2022-02-06T21:13:20.452942",
     "exception": false,
     "start_time": "2022-02-06T21:13:19.737381",
     "status": "completed"
    },
    "tags": []
   },
   "outputs": [
    {
     "data": {
      "image/png": "[encoded data removed]"
     },
     "metadata": {
      "image/png": {
       "height": 420,
       "width": 900
      }
     },
     "output_type": "display_data"
    }
   ],
   "source": [
    "options(repr.plot.width = 15, repr.plot.height = 7)\n",
    "ggplot(average_duration_weekday, aes(x = average_duration_weekday$day_of_week, y = average_duration_weekday$average_duration, fill = average_duration_weekday$member_casual))+\n",
    "  geom_col(position = \"dodge\")+\n",
    "  scale_y_continuous(breaks = scales:: breaks_width(10), labels = comma)+\n",
    "  labs(y = \"Average Duration per Min\", title = \"Cyclistic Member Vs. Casual: Average Duration per Weekday\", subtitle = \"Jan 21 - Dec 21\", caption = \"Data by Cyclistic\" ) + guides(fill=guide_legend(title=NULL))"
   ]
  },
  {
   "cell_type": "markdown",
   "id": "17118681",
   "metadata": {
    "papermill": {
     "duration": 0.294357,
     "end_time": "2022-02-06T21:13:21.044257",
     "exception": false,
     "start_time": "2022-02-06T21:13:20.749900",
     "status": "completed"
    },
    "tags": []
   },
   "source": [
    "### Compare and plot member and casual number of ride per weekday"
   ]
  },
  {
   "cell_type": "code",
   "execution_count": 32,
   "id": "7c6c2ca0",
   "metadata": {
    "execution": {
     "iopub.execute_input": "2022-02-06T21:13:21.638590Z",
     "iopub.status.busy": "2022-02-06T21:13:21.637068Z",
     "iopub.status.idle": "2022-02-06T21:13:22.028404Z",
     "shell.execute_reply": "2022-02-06T21:13:22.026188Z"
    },
    "papermill": {
     "duration": 0.691884,
     "end_time": "2022-02-06T21:13:22.028752",
     "exception": false,
     "start_time": "2022-02-06T21:13:21.336868",
     "status": "completed"
    },
    "tags": []
   },
   "outputs": [
    {
     "name": "stderr",
     "output_type": "stream",
     "text": [
      "`summarise()` has grouped output by 'member_casual'. You can override using the `.groups` argument.\n",
      "\n"
     ]
    },
    {
     "name": "stdout",
     "output_type": "stream",
     "text": [
      "\u001b[90m# A tibble: 14 × 3\u001b[39m\n",
      "\u001b[90m# Groups:   member_casual [2]\u001b[39m\n",
      "   member_casual day_of_week  count\n",
      "   \u001b[3m\u001b[90m<chr>\u001b[39m\u001b[23m         \u001b[3m\u001b[90m<ord>\u001b[39m\u001b[23m        \u001b[3m\u001b[90m<int>\u001b[39m\u001b[23m\n",
      "\u001b[90m 1\u001b[39m casual        Sunday      \u001b[4m4\u001b[24m\u001b[4m5\u001b[24m\u001b[4m6\u001b[24m214\n",
      "\u001b[90m 2\u001b[39m casual        Monday      \u001b[4m2\u001b[24m\u001b[4m7\u001b[24m\u001b[4m2\u001b[24m569\n",
      "\u001b[90m 3\u001b[39m casual        Tuesday     \u001b[4m2\u001b[24m\u001b[4m6\u001b[24m\u001b[4m6\u001b[24m932\n",
      "\u001b[90m 4\u001b[39m casual        Wednesday   \u001b[4m2\u001b[24m\u001b[4m6\u001b[24m\u001b[4m9\u001b[24m756\n",
      "\u001b[90m 5\u001b[39m casual        Thursday    \u001b[4m2\u001b[24m\u001b[4m7\u001b[24m\u001b[4m6\u001b[24m943\n",
      "\u001b[90m 6\u001b[39m casual        Friday      \u001b[4m3\u001b[24m\u001b[4m5\u001b[24m\u001b[4m1\u001b[24m837\n",
      "\u001b[90m 7\u001b[39m casual        Saturday    \u001b[4m5\u001b[24m\u001b[4m3\u001b[24m\u001b[4m1\u001b[24m951\n",
      "\u001b[90m 8\u001b[39m member        Sunday      \u001b[4m3\u001b[24m\u001b[4m6\u001b[24m\u001b[4m0\u001b[24m254\n",
      "\u001b[90m 9\u001b[39m member        Monday      \u001b[4m4\u001b[24m\u001b[4m0\u001b[24m\u001b[4m0\u001b[24m989\n",
      "\u001b[90m10\u001b[39m member        Tuesday     \u001b[4m4\u001b[24m\u001b[4m5\u001b[24m\u001b[4m3\u001b[24m255\n",
      "\u001b[90m11\u001b[39m member        Wednesday   \u001b[4m4\u001b[24m\u001b[4m6\u001b[24m\u001b[4m2\u001b[24m651\n",
      "\u001b[90m12\u001b[39m member        Thursday    \u001b[4m4\u001b[24m\u001b[4m3\u001b[24m\u001b[4m8\u001b[24m394\n",
      "\u001b[90m13\u001b[39m member        Friday      \u001b[4m4\u001b[24m\u001b[4m3\u001b[24m\u001b[4m2\u001b[24m982\n",
      "\u001b[90m14\u001b[39m member        Saturday    \u001b[4m4\u001b[24m\u001b[4m1\u001b[24m\u001b[4m5\u001b[24m615\n"
     ]
    }
   ],
   "source": [
    "num_of_rides_weekday <- combined_trips_v2 %>% \n",
    "  group_by(member_casual, day_of_week) %>% \n",
    "  summarise(count = length(ride_len), )\n",
    "print(num_of_rides_weekday)"
   ]
  },
  {
   "cell_type": "code",
   "execution_count": 33,
   "id": "5bf6538c",
   "metadata": {
    "execution": {
     "iopub.execute_input": "2022-02-06T21:13:22.638069Z",
     "iopub.status.busy": "2022-02-06T21:13:22.636400Z",
     "iopub.status.idle": "2022-02-06T21:13:23.022788Z",
     "shell.execute_reply": "2022-02-06T21:13:23.022203Z"
    },
    "papermill": {
     "duration": 0.690499,
     "end_time": "2022-02-06T21:13:23.022932",
     "exception": false,
     "start_time": "2022-02-06T21:13:22.332433",
     "status": "completed"
    },
    "tags": []
   },
   "outputs": [
    {
     "data": {
      "image/png": "[encoded data removed]"
     },
     "metadata": {
      "image/png": {
       "height": 420,
       "width": 900
      }
     },
     "output_type": "display_data"
    }
   ],
   "source": [
    "options(repr.plot.width = 15, repr.plot.height = 7)\n",
    "ggplot(num_of_rides_weekday, aes(x = num_of_rides_weekday$day_of_week, y = num_of_rides_weekday$count, fill = num_of_rides_weekday$member_casual))+\n",
    "  geom_col(position = \"dodge\")+\n",
    "  scale_y_continuous(breaks = scales:: breaks_width(100000), labels = comma)+\n",
    "  labs(y = \"Number of Rides\", title = \"Cyclistic Member Vs. Casual: Number of Rides per Weekday\", subtitle = \"Jan 21 - Dec 21\", caption = \"Data by Cyclistic\" ) + guides(fill=guide_legend(title=NULL))"
   ]
  },
  {
   "cell_type": "markdown",
   "id": "6cb95ed2",
   "metadata": {
    "papermill": {
     "duration": 0.298998,
     "end_time": "2022-02-06T21:13:23.622749",
     "exception": false,
     "start_time": "2022-02-06T21:13:23.323751",
     "status": "completed"
    },
    "tags": []
   },
   "source": [
    "This chart shows many features that can help differentiate between the member and casual riders:\n",
    "\n",
    "* It is clear that the peak for member riders is on weekdays indicating that they use the bike to go to work.\n",
    "* On the other hand, the peak for casual riders is on weekends which indicates that they use the bike in the holiday (maybe to practice cycling in the park).\n",
    "\n",
    "### Compare and plot member and casual average ride duration per hour"
   ]
  },
  {
   "cell_type": "code",
   "execution_count": 34,
   "id": "3ae471c9",
   "metadata": {
    "execution": {
     "iopub.execute_input": "2022-02-06T21:13:24.226150Z",
     "iopub.status.busy": "2022-02-06T21:13:24.224528Z",
     "iopub.status.idle": "2022-02-06T21:13:26.032899Z",
     "shell.execute_reply": "2022-02-06T21:13:26.031374Z"
    },
    "papermill": {
     "duration": 2.110903,
     "end_time": "2022-02-06T21:13:26.033095",
     "exception": false,
     "start_time": "2022-02-06T21:13:23.922192",
     "status": "completed"
    },
    "tags": []
   },
   "outputs": [
    {
     "name": "stderr",
     "output_type": "stream",
     "text": [
      "`summarise()` has grouped output by 'member_casual'. You can override using the `.groups` argument.\n",
      "\n"
     ]
    },
    {
     "name": "stdout",
     "output_type": "stream",
     "text": [
      "\u001b[90m# A tibble: 48 × 3\u001b[39m\n",
      "\u001b[90m# Groups:   member_casual [2]\u001b[39m\n",
      "   member_casual started_hour average_duration\n",
      "   \u001b[3m\u001b[90m<chr>\u001b[39m\u001b[23m                \u001b[3m\u001b[90m<int>\u001b[39m\u001b[23m            \u001b[3m\u001b[90m<dbl>\u001b[39m\u001b[23m\n",
      "\u001b[90m 1\u001b[39m casual                   0             34.3\n",
      "\u001b[90m 2\u001b[39m casual                   1             37.3\n",
      "\u001b[90m 3\u001b[39m casual                   2             43.0\n",
      "\u001b[90m 4\u001b[39m casual                   3             45.0\n",
      "\u001b[90m 5\u001b[39m casual                   4             47.2\n",
      "\u001b[90m 6\u001b[39m casual                   5             23.4\n",
      "\u001b[90m 7\u001b[39m casual                   6             21.3\n",
      "\u001b[90m 8\u001b[39m casual                   7             21.0\n",
      "\u001b[90m 9\u001b[39m casual                   8             24.0\n",
      "\u001b[90m10\u001b[39m casual                   9             28.3\n",
      "\u001b[90m# … with 38 more rows\u001b[39m\n"
     ]
    }
   ],
   "source": [
    "average_duration_hour <- combined_trips_v2 %>% \n",
    "  group_by(member_casual, started_hour) %>% \n",
    "  summarise(average_duration = mean(ride_len)/60, )\n",
    "print(average_duration_hour)"
   ]
  },
  {
   "cell_type": "code",
   "execution_count": 35,
   "id": "296b3ffd",
   "metadata": {
    "execution": {
     "iopub.execute_input": "2022-02-06T21:13:26.644821Z",
     "iopub.status.busy": "2022-02-06T21:13:26.643401Z",
     "iopub.status.idle": "2022-02-06T21:13:26.982061Z",
     "shell.execute_reply": "2022-02-06T21:13:26.981404Z"
    },
    "papermill": {
     "duration": 0.645271,
     "end_time": "2022-02-06T21:13:26.982194",
     "exception": false,
     "start_time": "2022-02-06T21:13:26.336923",
     "status": "completed"
    },
    "tags": []
   },
   "outputs": [
    {
     "data": {
      "image/png": "[encoded data removed]"
     },
     "metadata": {
      "image/png": {
       "height": 420,
       "width": 900
      }
     },
     "output_type": "display_data"
    }
   ],
   "source": [
    "options(repr.plot.width = 15, repr.plot.height = 7)\n",
    "ggplot(average_duration_hour, aes(x = average_duration_hour$started_hour, y = average_duration_hour$average_duration, fill = average_duration_hour$member_casual))+\n",
    "  geom_col(position = \"dodge\")+\n",
    "  scale_y_continuous(breaks = scales:: breaks_width(5), labels = comma)+\n",
    "  labs(y = \"Average Duration per Min\", title = \"Cyclistic Member Vs. Casual: Average Duration per Hour\", subtitle = \"Jan 21 - Dec 21\", caption = \"Data by Cyclistic\" ) + guides(fill=guide_legend(title=NULL))"
   ]
  },
  {
   "cell_type": "markdown",
   "id": "5a6802be",
   "metadata": {
    "papermill": {
     "duration": 0.305949,
     "end_time": "2022-02-06T21:13:27.591799",
     "exception": false,
     "start_time": "2022-02-06T21:13:27.285850",
     "status": "completed"
    },
    "tags": []
   },
   "source": [
    "### Compare and plot member and casual number of ride per hour"
   ]
  },
  {
   "cell_type": "code",
   "execution_count": 36,
   "id": "07c55261",
   "metadata": {
    "execution": {
     "iopub.execute_input": "2022-02-06T21:13:28.208808Z",
     "iopub.status.busy": "2022-02-06T21:13:28.207187Z",
     "iopub.status.idle": "2022-02-06T21:13:28.547100Z",
     "shell.execute_reply": "2022-02-06T21:13:28.546075Z"
    },
    "papermill": {
     "duration": 0.649659,
     "end_time": "2022-02-06T21:13:28.547253",
     "exception": false,
     "start_time": "2022-02-06T21:13:27.897594",
     "status": "completed"
    },
    "tags": []
   },
   "outputs": [
    {
     "name": "stderr",
     "output_type": "stream",
     "text": [
      "`summarise()` has grouped output by 'member_casual'. You can override using the `.groups` argument.\n",
      "\n"
     ]
    },
    {
     "name": "stdout",
     "output_type": "stream",
     "text": [
      "\u001b[90m# A tibble: 48 × 3\u001b[39m\n",
      "\u001b[90m# Groups:   member_casual [2]\u001b[39m\n",
      "   member_casual started_hour count\n",
      "   \u001b[3m\u001b[90m<chr>\u001b[39m\u001b[23m                \u001b[3m\u001b[90m<int>\u001b[39m\u001b[23m \u001b[3m\u001b[90m<int>\u001b[39m\u001b[23m\n",
      "\u001b[90m 1\u001b[39m casual                   0 \u001b[4m5\u001b[24m\u001b[4m1\u001b[24m663\n",
      "\u001b[90m 2\u001b[39m casual                   1 \u001b[4m3\u001b[24m\u001b[4m7\u001b[24m611\n",
      "\u001b[90m 3\u001b[39m casual                   2 \u001b[4m2\u001b[24m\u001b[4m4\u001b[24m681\n",
      "\u001b[90m 4\u001b[39m casual                   3 \u001b[4m1\u001b[24m\u001b[4m3\u001b[24m582\n",
      "\u001b[90m 5\u001b[39m casual                   4  \u001b[4m9\u001b[24m631\n",
      "\u001b[90m 6\u001b[39m casual                   5 \u001b[4m1\u001b[24m\u001b[4m2\u001b[24m188\n",
      "\u001b[90m 7\u001b[39m casual                   6 \u001b[4m2\u001b[24m\u001b[4m5\u001b[24m054\n",
      "\u001b[90m 8\u001b[39m casual                   7 \u001b[4m4\u001b[24m\u001b[4m5\u001b[24m481\n",
      "\u001b[90m 9\u001b[39m casual                   8 \u001b[4m6\u001b[24m\u001b[4m1\u001b[24m635\n",
      "\u001b[90m10\u001b[39m casual                   9 \u001b[4m7\u001b[24m\u001b[4m3\u001b[24m435\n",
      "\u001b[90m# … with 38 more rows\u001b[39m\n"
     ]
    }
   ],
   "source": [
    "num_of_rides_hour <- combined_trips_v2 %>% \n",
    "  group_by(member_casual, started_hour) %>% \n",
    "  summarise(count = length(ride_len), )\n",
    "print(num_of_rides_hour)"
   ]
  },
  {
   "cell_type": "code",
   "execution_count": 37,
   "id": "621e852c",
   "metadata": {
    "execution": {
     "iopub.execute_input": "2022-02-06T21:13:29.165927Z",
     "iopub.status.busy": "2022-02-06T21:13:29.164282Z",
     "iopub.status.idle": "2022-02-06T21:13:29.498212Z",
     "shell.execute_reply": "2022-02-06T21:13:29.497202Z"
    },
    "papermill": {
     "duration": 0.645292,
     "end_time": "2022-02-06T21:13:29.498349",
     "exception": false,
     "start_time": "2022-02-06T21:13:28.853057",
     "status": "completed"
    },
    "tags": []
   },
   "outputs": [
    {
     "data": {
      "image/png": "[encoded data removed]"
     },
     "metadata": {
      "image/png": {
       "height": 420,
       "width": 900
      }
     },
     "output_type": "display_data"
    }
   ],
   "source": [
    "options(repr.plot.width = 15, repr.plot.height = 7)\n",
    "ggplot(num_of_rides_hour, aes(x = num_of_rides_hour$started_hour, y = num_of_rides_hour$count, fill = num_of_rides_hour$member_casual))+\n",
    "  geom_col(position = \"dodge\")+\n",
    "  scale_y_continuous(breaks = scales:: breaks_width(100000), labels = comma)+\n",
    "  labs(y = \"Number of Rides\", title = \"Cyclistic Member Vs. Casual: Number of Rides per Hour\", subtitle = \"Jan 21 - Dec 21\", caption = \"Data by Cyclistic\" ) + guides(fill=guide_legend(title=NULL))"
   ]
  },
  {
   "cell_type": "markdown",
   "id": "101b83e7",
   "metadata": {
    "papermill": {
     "duration": 0.30865,
     "end_time": "2022-02-06T21:13:30.116428",
     "exception": false,
     "start_time": "2022-02-06T21:13:29.807778",
     "status": "completed"
    },
    "tags": []
   },
   "source": [
    "From this chart, the following can be recognized:\n",
    "\n",
    "* The bigger volume of the chart lays between 6:00 AM and 10:00 PM.\n",
    "* The two peaks of the member riders are at 8:00 AM and 6:00 PM which is the start and end of the working hours.\n",
    "* This assures our earlier hypnosis that member riders use the bike to go to work.\n",
    "* On the other hand, the bigger volume of the casual riders lays between 12:00 PM and 10:00 PM which indicates that they use the bike for other purposes than work.\n",
    "* The peak of the casual member riders is at 5:00 PM which might be when the touristic places close.\n",
    "\n",
    "## **Guiding Questions**\n",
    "\n",
    "* **How should you organize your data to perform analysis on it?** <br /> The Data should be combined into single .CSV file. <br /> <br />\n",
    "* **How is the data organized?** <br /> The data is organized by month. <br /> <br />\n",
    "* **Has your data been properly formatted?** <br /> Yes, the formatting for all the columns was consistent.<br /> <br />\n",
    "* **What surprises did you discover in the data?** <br /> what surprised me was the member riders are more than the casual riders, and another surprise for me was the average duration for member and casual riders. <br /> <br />\n",
    "* **What trends or relationships did you find in the data?** <br /> \n",
    "    + Member riders are more than casual riders.\n",
    "    + The number of rides in Jul is almost 10 times the number of rides in Feb.\n",
    "    + the behavior of members and casual riders on the weekdays and the weekends.\n",
    "    + Member riders use their bikes on schedule to go to their work.<br /> <br />\n",
    "* **How will these insights help answer your business questions?** <br /> Building a behavioral profile for both member and casual rides might help the digital marketing team to create new strategies to convert casual into member riders.\n",
    "\n",
    "### **Key Tasks**\n",
    "\n",
    "* [x] Aggregate your data so it is useful and accessible.\n",
    "* [x] Organize and format your data.\n",
    "* [x] Perform calculations.\n",
    "* [x] Identify trends and relationships.\n",
    "\n",
    "### **Deliverable**\n",
    "\n",
    "* [x] **A summary of your analysis** <br /> The member riders have more rides and less average ride duration. They most likely use the bike to go to work and that is why the number of rides for member riders is located on the weekdays. On the contrary, the casual riders have less number of rides and more average ride duration. They use their bike on the weekends to practice cycling, or they might be tourists who use the bike in the summer season or on big holidays. </font>"
   ]
  },
  {
   "cell_type": "markdown",
   "id": "ec66718b",
   "metadata": {
    "papermill": {
     "duration": 0.309805,
     "end_time": "2022-02-06T21:13:30.734971",
     "exception": false,
     "start_time": "2022-02-06T21:13:30.425166",
     "status": "completed"
    },
    "tags": []
   },
   "source": [
    "# **Share** Roadmap\n",
    "\n",
    "<font size =\"3\">The Share step in the data analysis process is usually where the data visualization tools should be used to produce sophisticated and polished visualizations. Tableau public for me was the best option to create catchy and yet sophisticated visualizations. in this notebook, I will write the notes that I will present and will add a link to the Tableau dashboard at the end.<br />\n",
    "\n",
    "**what are the main findings in the dataset?** <br />\n",
    "\n",
    "* 55% of the number of rides is for member riders, and 45 % for casual riders.\n",
    "* The number of rides in the summer season is more than in other seasons.\n",
    "* Due to the dominance of the member riders of the dataset, the number of member rides per month is always higher than the number of rides for casual riders.\n",
    "* Although the number of rides for casual members is lower than the member riders, they have almost double the average ride duration, which makes the peak for average ride duration on weekends and not on weekdays.\n",
    "* The member riders use bikes to go to work and that is why they have less average ride duration and more number of rides.\n",
    "\n",
    "**How member and casual riders are different?** <br />\n",
    "\n",
    "* Members riders have the bigger volume of rides on weekdays, while casual riders have the bigger volume of rides on weekends.\n",
    "* Member riders have a bigger volume of the number of rides in the morning hours from 5:00 AM till 10:00 AM. On the other hand, casual riders have a bigger volume of the number of rides from 10 PM till 4:AM.\n",
    "* The number of rides for member riders stat increase at 6:00 AM till it reaches 8:00 AM and then it drops and rise again at 12:00 PM and then drop again and rise to the maximum at 5:00 PM. \n",
    "* the number of rides for members is mostly stable during the week and reduced on the weekends.\n",
    "* the casual riders on the contrary keep a low profile on the weekdays and increase suddenly on the weekends. <br />\n",
    "\n",
    "**what we can conclude from this information**  <br />\n",
    "\n",
    "* Member riders use the bike to go to work.\n",
    "* Some of them use the bike to practice cycling on the weekends.\n",
    "* Casual riders are mostly tourists or they use the bike to exercise on the weekends.\n",
    "* The weather affects the number of rides for both member and casual riders.\n",
    "* The summer and big holidays seasons affect the number of rides for the casual riders.\n",
    "    \n",
    "**Tableau Visualization** for this project can be found in this [link](https://public.tableau.com/views/CyclisticCaseStudy-GoogleDataAnalyticsProfessionalCertificate/Dashboard1?:language=en-GB&:display_count=n&:origin=viz_share_link)\n",
    "\n",
    "## **Guiding Questions**\n",
    "\n",
    "* **Were you able to answer the question of how annual members and casual riders use Cyclistic bikes differently?** <br /> Yes, after analyzing the data, there are many differences between member and casual riders. <br /> <br />\n",
    "* **What story does your data tell?** <br /> My findings build a profile for both member and casual riders which will help the digital media team find more suitable business strategies to convert more casual into member riders. <br /> <br />\n",
    "* **Who is your audience? What is the best way to communicate with them?** <br /> My manager Lily Moreno and the Marketing team. the best way to communicate with them will be through a presentation to illustrate my findings. <br /> <br />\n",
    "* **Can data visualization help you share your findings?** <br /> Yes, sure data visualization always help in sharing my findings. <br /> <br />\n",
    "* **Is your presentation accessible to your audience?** <br /> Yes, the presentation is accessible in Tableau public and a R Markdown can be of help also.\n",
    "\n",
    "## **Key Tasks**\n",
    "\n",
    "* [x] Determine the best way to share your finding.\n",
    "* [x] Create effective data visualizations.\n",
    "* [x] present your findings.\n",
    "* [x] Ensure your work is accessible.\n",
    "\n",
    "## **Deliverable**\n",
    "\n",
    "* [x] **Supporting visualizations and key findings.** <br /> Tableau Visualization for this project can be found in this [link](https://public.tableau.com/views/CyclisticCaseStudy-GoogleDataAnalyticsProfessionalCertificate/Dashboard1?:language=en-GB&:display_count=n&:origin=viz_share_link).</font>"
   ]
  },
  {
   "cell_type": "markdown",
   "id": "488dd9bb",
   "metadata": {
    "papermill": {
     "duration": 0.306111,
     "end_time": "2022-02-06T21:13:31.350284",
     "exception": false,
     "start_time": "2022-02-06T21:13:31.044173",
     "status": "completed"
    },
    "tags": []
   },
   "source": [
    "# **Act** Roadmap\n",
    "\n",
    "<font size =\"3\">The final step in the project is the act process. Usually, it will be done by the marketing team, but for the sake of the project, my role will be providing 3 recommendations for the marketing team. \n",
    "\n",
    "## **Guiding Questions**\n",
    "\n",
    "* **What is your final conclusion based on your analysis?** <br /> Members and casual riders have different profiles. The marketing team can use these profiles to create new business strategies to convert casual into member riders. <br /> <br />\n",
    "* **How could your team and business apply your insights?** <br /> The marketing team can make a new campaign based on my insights. They also can create new types of membership or make discounts for casual riders to convert to membership.  <br /> <br />\n",
    "* **What next steps would you or your stakeholders take based on your findings?** <br /> Collecting more data about riders such as the gender and the ages and others to conduct a deeper analysis and get more insights for the marketing team to use. <br /> <br />\n",
    "* **Is there additional data you could use to expand on your findings?** <br /> \n",
    "  + Climate data.\n",
    "  + Personal data (age, gender, etc..)\n",
    "\n",
    "## **Key Tasks**\n",
    "\n",
    "* [x] Create your portfolio.\n",
    "* [x] Add your case study.\n",
    "* [x] Practice presenting your case study to a friend or family member.\n",
    "\n",
    "## **Deliverable**\n",
    "\n",
    "* [x] **Your top three recommendations based on your analysis** <br />\n",
    "\n",
    "     + Linking bike mobile app to members and casual riders and show in a campaign how this will improve the riders' health.\n",
    "     + Create challenges for bikers in the mobile app w ranking positions and the top 100 riders will get bonuses or discounts.\n",
    "     + Increase the benefits for riders in the low season months."
   ]
  }
 ],
 "metadata": {
  "kernelspec": {
   "display_name": "R",
   "language": "R",
   "name": "ir"
  },
  "language_info": {
   "codemirror_mode": "r",
   "file_extension": ".r",
   "mimetype": "text/x-r-source",
   "name": "R",
   "pygments_lexer": "r",
   "version": "4.0.5"
  },
  "papermill": {
   "default_parameters": {},
   "duration": 372.717503,
   "end_time": "2022-02-06T21:13:32.072904",
   "environment_variables": {},
   "exception": null,
   "input_path": "__notebook__.ipynb",
   "output_path": "__notebook__.ipynb",
   "parameters": {},
   "start_time": "2022-02-06T21:07:19.355401",
   "version": "2.3.3"
  }
 },
 "nbformat": 4,
 "nbformat_minor": 5
}
